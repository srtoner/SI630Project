{
 "cells": [
  {
   "cell_type": "code",
   "execution_count": 5,
   "metadata": {},
   "outputs": [],
   "source": [
    "import requests\n",
    "import os\n",
    "import json\n",
    "import pandas as pd\n",
    "import numpy as np\n",
    "import pickle as pkl\n",
    "import TwitterUtils as TU\n",
    "import seaborn as sns\n",
    "import re\n",
    "\n",
    "# import spacy\n",
    "# import spacy_langdetect as sld"
   ]
  },
  {
   "cell_type": "code",
   "execution_count": 6,
   "metadata": {},
   "outputs": [
    {
     "name": "stdout",
     "output_type": "stream",
     "text": [
      "Money buys you good things.\n"
     ]
    }
   ],
   "source": [
    "from transformers import AutoTokenizer, AutoModelForSeq2SeqLM\n",
    "\n",
    "tokenizer = AutoTokenizer.from_pretrained(\"microsoft/GODEL-v1_1-base-seq2seq\")\n",
    "model = AutoModelForSeq2SeqLM.from_pretrained(\"microsoft/GODEL-v1_1-base-seq2seq\")\n",
    "\n",
    "def generate(instruction, knowledge, dialog):\n",
    "    if knowledge != '':\n",
    "        knowledge = '[KNOWLEDGE] ' + knowledge\n",
    "    dialog = ' EOS '.join(dialog)\n",
    "    query = f\"{instruction} [CONTEXT] {dialog} {knowledge}\"\n",
    "    input_ids = tokenizer(f\"{query}\", return_tensors=\"pt\").input_ids\n",
    "    outputs = model.generate(input_ids, max_length=128, min_length=8, top_p=0.9, do_sample=True)\n",
    "    output = tokenizer.decode(outputs[0], skip_special_tokens=True)\n",
    "    return output\n",
    "\n",
    "# Instruction for a chitchat task\n",
    "instruction = f'Instruction: given a dialog context, you need to response empathically.'\n",
    "# Leave the knowldge empty\n",
    "knowledge = ''\n",
    "dialog = [\n",
    "    'Does money buy happiness?',\n",
    "    'It is a question. Money buys you a lot of things, but not enough to buy happiness.',\n",
    "    'What is the best way to buy happiness ?'\n",
    "]\n",
    "response = generate(instruction, knowledge, dialog)\n",
    "print(response)"
   ]
  },
  {
   "cell_type": "code",
   "execution_count": 9,
   "metadata": {},
   "outputs": [],
   "source": [
    "convo_df = pd.read_csv(\"convo_data.csv\")"
   ]
  },
  {
   "cell_type": "code",
   "execution_count": 10,
   "metadata": {},
   "outputs": [
    {
     "data": {
      "text/plain": [
       "'[3]: https://t.co/xRm5O7VaCt || [0]: Respect my goat \\U0001fae1 https://t.co/qtWbliK8Nt || [1]: Tatum sucks || [2]: Respect yourself || [3]: https://t.co/cr47l4df9P || [0]: 😭 ||'"
      ]
     },
     "execution_count": 10,
     "metadata": {},
     "output_type": "execute_result"
    }
   ],
   "source": [
    "convo_df.iloc[42].clean_convo"
   ]
  },
  {
   "cell_type": "code",
   "execution_count": 97,
   "metadata": {},
   "outputs": [],
   "source": [
    "dialog = convo_df.iloc[0].clean_convo.split('||')"
   ]
  },
  {
   "cell_type": "code",
   "execution_count": 98,
   "metadata": {},
   "outputs": [
    {
     "data": {
      "text/plain": [
       "[\"[6]: First of all, believing is not a scientific mindset. Don't believe even science. Just try to know, whether it is science or astrology. \",\n",
       " ' [2]: Also, the person you admire in investing field believes in Vedic astrology. He doesn’t just believe in it, he has actually studied it. I would admire your skepticism if you call it out after studying it or else your opinion will be a ill informed one. ',\n",
       " \" [7]: No, it didn't impressed me if that was the motive.\\nHope U don't carry this at Ur work place. I personally avoid doing biz with clients having such mindset. \",\n",
       " \" [0]: Namaste sir.  It is OK if you aren't impressed.  Have a good day ahead. \",\n",
       " ' [1]: If someone asks whether stock market is gambling or not can you answer him without explaining the context. Similarly you need to understand astrology to get your answers. \\n\\nI feel like you started getting training from Raga ',\n",
       " ' [3]: Pranaam Sir🙏\\nWhat is your take on timed muhurat cesarean. Should one go for it? ',\n",
       " ' [5]: sir, dont bother answering  this  bird brain, he does not have the intellect to understand science, leave alone vedic science. ',\n",
       " ' [4]: Think.... astrologers are more accurate than market pundits. ',\n",
       " '']"
      ]
     },
     "execution_count": 98,
     "metadata": {},
     "output_type": "execute_result"
    }
   ],
   "source": [
    "dialog"
   ]
  },
  {
   "cell_type": "code",
   "execution_count": 112,
   "metadata": {},
   "outputs": [
    {
     "name": "stdout",
     "output_type": "stream",
     "text": [
      "India\n",
      "BJP is leader of the BJP and BJP is the only candidate.\n"
     ]
    }
   ],
   "source": [
    "# Instruction for a chitchat task\n",
    "instruction = f'Instruction: given a dialog context, respond in the style of the dialog:'\n",
    "# Leave the knowldge empty\n",
    "knowledge = convo_df.iloc[0].country\n",
    "print(knowledge)\n",
    "response = generate(instruction, knowledge, dialog)\n",
    "print(response)"
   ]
  },
  {
   "cell_type": "code",
   "execution_count": 42,
   "metadata": {},
   "outputs": [],
   "source": [
    "\n"
   ]
  }
 ],
 "metadata": {
  "kernelspec": {
   "display_name": "Python 3.8.8 ('base')",
   "language": "python",
   "name": "python3"
  },
  "language_info": {
   "codemirror_mode": {
    "name": "ipython",
    "version": 3
   },
   "file_extension": ".py",
   "mimetype": "text/x-python",
   "name": "python",
   "nbconvert_exporter": "python",
   "pygments_lexer": "ipython3",
   "version": "3.8.8"
  },
  "orig_nbformat": 4,
  "vscode": {
   "interpreter": {
    "hash": "ad2bdc8ecc057115af97d19610ffacc2b4e99fae6737bb82f5d7fb13d2f2c186"
   }
  }
 },
 "nbformat": 4,
 "nbformat_minor": 2
}
