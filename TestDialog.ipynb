{
 "cells": [
  {
   "cell_type": "code",
   "execution_count": 1,
   "metadata": {},
   "outputs": [],
   "source": [
    "import requests\n",
    "import os\n",
    "import json\n",
    "import pandas as pd\n",
    "import numpy as np\n",
    "import pickle as pkl\n",
    "import TwitterUtils as TU\n",
    "import seaborn as sns\n",
    "import re\n",
    "\n",
    "# import spacy\n",
    "# import spacy_langdetect as sld"
   ]
  },
  {
   "cell_type": "code",
   "execution_count": 2,
   "metadata": {},
   "outputs": [
    {
     "data": {
      "application/vnd.jupyter.widget-view+json": {
       "model_id": "846ccd95b2004212a71ce6140f4896dc",
       "version_major": 2,
       "version_minor": 0
      },
      "text/plain": [
       "Downloading (…)okenizer_config.json:   0%|          | 0.00/2.36k [00:00<?, ?B/s]"
      ]
     },
     "metadata": {},
     "output_type": "display_data"
    },
    {
     "name": "stderr",
     "output_type": "stream",
     "text": [
      "C:\\Users\\Steve Toner\\AppData\\Roaming\\Python\\Python38\\site-packages\\huggingface_hub\\file_download.py:133: UserWarning: `huggingface_hub` cache-system uses symlinks by default to efficiently store duplicated files but your machine does not support them in C:\\Users\\Steve Toner\\.cache\\huggingface\\hub. Caching files will still work but in a degraded version that might require more space on your disk. This warning can be disabled by setting the `HF_HUB_DISABLE_SYMLINKS_WARNING` environment variable. For more details, see https://huggingface.co/docs/huggingface_hub/how-to-cache#limitations.\n",
      "To support symlinks on Windows, you either need to activate Developer Mode or to run Python as an administrator. In order to see activate developer mode, see this article: https://docs.microsoft.com/en-us/windows/apps/get-started/enable-your-device-for-development\n",
      "  warnings.warn(message)\n"
     ]
    },
    {
     "data": {
      "application/vnd.jupyter.widget-view+json": {
       "model_id": "7e0d5bebf7fd4fe28367f990f8ed63cd",
       "version_major": 2,
       "version_minor": 0
      },
      "text/plain": [
       "Downloading (…)/main/tokenizer.json:   0%|          | 0.00/2.42M [00:00<?, ?B/s]"
      ]
     },
     "metadata": {},
     "output_type": "display_data"
    },
    {
     "data": {
      "application/vnd.jupyter.widget-view+json": {
       "model_id": "ab82542399414a4f95d870ec51ad845d",
       "version_major": 2,
       "version_minor": 0
      },
      "text/plain": [
       "Downloading (…)in/added_tokens.json:   0%|          | 0.00/37.0 [00:00<?, ?B/s]"
      ]
     },
     "metadata": {},
     "output_type": "display_data"
    },
    {
     "data": {
      "application/vnd.jupyter.widget-view+json": {
       "model_id": "bcb765eebd9748599078c38e24673550",
       "version_major": 2,
       "version_minor": 0
      },
      "text/plain": [
       "Downloading (…)cial_tokens_map.json:   0%|          | 0.00/2.20k [00:00<?, ?B/s]"
      ]
     },
     "metadata": {},
     "output_type": "display_data"
    },
    {
     "data": {
      "application/vnd.jupyter.widget-view+json": {
       "model_id": "0ab938103f5743d2b4fc9efdda831a9d",
       "version_major": 2,
       "version_minor": 0
      },
      "text/plain": [
       "Downloading (…)lve/main/config.json:   0%|          | 0.00/1.49k [00:00<?, ?B/s]"
      ]
     },
     "metadata": {},
     "output_type": "display_data"
    },
    {
     "data": {
      "application/vnd.jupyter.widget-view+json": {
       "model_id": "cce7a88cc061406ead7d3216615bc8d9",
       "version_major": 2,
       "version_minor": 0
      },
      "text/plain": [
       "Downloading pytorch_model.bin:   0%|          | 0.00/892M [00:00<?, ?B/s]"
      ]
     },
     "metadata": {},
     "output_type": "display_data"
    },
    {
     "data": {
      "application/vnd.jupyter.widget-view+json": {
       "model_id": "ba07464ef4154eeba3057dd249be8eaa",
       "version_major": 2,
       "version_minor": 0
      },
      "text/plain": [
       "Downloading (…)neration_config.json:   0%|          | 0.00/147 [00:00<?, ?B/s]"
      ]
     },
     "metadata": {},
     "output_type": "display_data"
    },
    {
     "name": "stdout",
     "output_type": "stream",
     "text": [
      "Money does buy happiness. Money buys you the necessary parts of happiness.\n"
     ]
    }
   ],
   "source": [
    "from transformers import AutoTokenizer, AutoModelForSeq2SeqLM\n",
    "\n",
    "tokenizer = AutoTokenizer.from_pretrained(\"microsoft/GODEL-v1_1-base-seq2seq\")\n",
    "model = AutoModelForSeq2SeqLM.from_pretrained(\"microsoft/GODEL-v1_1-base-seq2seq\")\n",
    "\n",
    "def generate(instruction, knowledge, dialog):\n",
    "    if knowledge != '':\n",
    "        knowledge = '[KNOWLEDGE] ' + knowledge\n",
    "    dialog = ' EOS '.join(dialog)\n",
    "    query = f\"{instruction} [CONTEXT] {dialog} {knowledge}\"\n",
    "    input_ids = tokenizer(f\"{query}\", return_tensors=\"pt\").input_ids\n",
    "    outputs = model.generate(input_ids, max_length=128, min_length=8, top_p=0.9, do_sample=True)\n",
    "    output = tokenizer.decode(outputs[0], skip_special_tokens=True)\n",
    "    return output\n",
    "\n",
    "# Instruction for a chitchat task\n",
    "instruction = f'Instruction: given a dialog context, you need to response empathically.'\n",
    "# Leave the knowldge empty\n",
    "knowledge = ''\n",
    "dialog = [\n",
    "    'Does money buy happiness?',\n",
    "    'It is a question. Money buys you a lot of things, but not enough to buy happiness.',\n",
    "    'What is the best way to buy happiness ?'\n",
    "]\n",
    "response = generate(instruction, knowledge, dialog)\n",
    "print(response)"
   ]
  },
  {
   "cell_type": "code",
   "execution_count": 3,
   "metadata": {},
   "outputs": [],
   "source": [
    "convo_df = pd.read_csv(\"convo_data.csv\")"
   ]
  },
  {
   "cell_type": "code",
   "execution_count": 5,
   "metadata": {},
   "outputs": [
    {
     "data": {
      "text/plain": [
       "'[1] https://t.co/xRm5O7VaCt|| [2] Respect my goat \\U0001fae1 https://t.co/qtWbliK8Nt|| [0] Tatum sucks|| [3] Respect yourself|| [1] https://t.co/cr47l4df9P|| [2] 😭||'"
      ]
     },
     "execution_count": 5,
     "metadata": {},
     "output_type": "execute_result"
    }
   ],
   "source": [
    "convo_df.iloc[42].clean_convo"
   ]
  },
  {
   "cell_type": "code",
   "execution_count": 22,
   "metadata": {},
   "outputs": [],
   "source": [
    "dialog = convo_df.iloc[60].clean_convo.split('||')"
   ]
  },
  {
   "cell_type": "code",
   "execution_count": 23,
   "metadata": {},
   "outputs": [
    {
     "data": {
      "text/plain": [
       "['[3] Not bad!',\n",
       " \" [6] I'm wondering how much it would cost to replicate the build today.\",\n",
       " ' [4] Hah, I’m almost surprised that didn’t go for slightly more, tbh.',\n",
       " ' [5] $4800 lmao',\n",
       " \" [2] Fairly significant car. $100k wouldn't have surprised me at all.\",\n",
       " ' [0] 10-15k all day.',\n",
       " ' [6] Check the specs  https://t.co/uk03t8K1ih',\n",
       " \" [1] It was Paul Newman's car its a legendary volvo that belonged to a legendary man\",\n",
       " '']"
      ]
     },
     "execution_count": 23,
     "metadata": {},
     "output_type": "execute_result"
    }
   ],
   "source": [
    "dialog"
   ]
  },
  {
   "cell_type": "code",
   "execution_count": 24,
   "metadata": {},
   "outputs": [
    {
     "name": "stdout",
     "output_type": "stream",
     "text": [
      "[5] Supercars for under 20k, tbh.\n"
     ]
    }
   ],
   "source": [
    "# Instruction for a chitchat task\n",
    "instruction = f'Instruction: given a dialog context, respond in the style of the dialog.'\n",
    "# Leave the knowldge empty\n",
    "knowledge = ''\n",
    "\n",
    "response = generate(instruction, knowledge, dialog)\n",
    "print(response)"
   ]
  }
 ],
 "metadata": {
  "kernelspec": {
   "display_name": "Python 3.8.8 ('base')",
   "language": "python",
   "name": "python3"
  },
  "language_info": {
   "codemirror_mode": {
    "name": "ipython",
    "version": 3
   },
   "file_extension": ".py",
   "mimetype": "text/x-python",
   "name": "python",
   "nbconvert_exporter": "python",
   "pygments_lexer": "ipython3",
   "version": "3.8.8"
  },
  "orig_nbformat": 4,
  "vscode": {
   "interpreter": {
    "hash": "ad2bdc8ecc057115af97d19610ffacc2b4e99fae6737bb82f5d7fb13d2f2c186"
   }
  }
 },
 "nbformat": 4,
 "nbformat_minor": 2
}
