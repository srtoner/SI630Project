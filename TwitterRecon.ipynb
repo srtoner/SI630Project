{
 "cells": [
  {
   "cell_type": "code",
   "execution_count": 1,
   "metadata": {},
   "outputs": [],
   "source": [
    "import requests\n",
    "import os\n",
    "import json\n",
    "\n",
    "import pickle as pkl\n",
    "\n",
    "import TwitterUtils as TU"
   ]
  },
  {
   "attachments": {},
   "cell_type": "markdown",
   "metadata": {},
   "source": [
    "## Exploratory Space For Developing Twitter API Workflow\n",
    "Our first step is to sample some arbitrary number of twitter users. We have done this in the TwitterUtils.py file and are using this document to develop the workflow."
   ]
  },
  {
   "cell_type": "code",
   "execution_count": 2,
   "metadata": {},
   "outputs": [
    {
     "name": "stdout",
     "output_type": "stream",
     "text": [
      "{\"data\": [{\"id\": \"1633877176914149393\", \"value\": \"(a OR the) has:geo lang:en tweets_count:50\", \"tag\": \"active_user\"}], \"meta\": {\"sent\": \"2023-03-09T18:04:09.149Z\", \"result_count\": 1}}\n",
      "200\n"
     ]
    }
   ],
   "source": [
    "user_seed = TU.TwitterClient()\n",
    "rules = user_seed.get_rules() # Prints Rule for current Stream; Need to determine if we can repurpose the get_stream to another endpoint\n",
    "user_sample = user_seed.get_stream(rules, sample_size = 100)"
   ]
  },
  {
   "cell_type": "code",
   "execution_count": 4,
   "metadata": {},
   "outputs": [],
   "source": [
    "user_ids = [tweet['data']['author_id'] for tweet in user_sample]\n",
    "user_ids"
   ]
  },
  {
   "cell_type": "code",
   "execution_count": 5,
   "metadata": {},
   "outputs": [
    {
     "data": {
      "text/plain": [
       "['3871965339',\n",
       " '1168147256878477312',\n",
       " '1096491912100544513',\n",
       " '711275933211217920',\n",
       " '3030032723',\n",
       " '780584744941518848',\n",
       " '1208877273455181824',\n",
       " '4236586214',\n",
       " '1183482031809945601',\n",
       " '61642501',\n",
       " '1433318794248736771',\n",
       " '18503412',\n",
       " '14807763',\n",
       " '46634281',\n",
       " '9544202',\n",
       " '25928487',\n",
       " '2561986016',\n",
       " '1149492653291008000',\n",
       " '1507922421252341764',\n",
       " '1423573289763577859',\n",
       " '996250724',\n",
       " '357590792',\n",
       " '1573722308237266947',\n",
       " '255139039',\n",
       " '1104105195561238529',\n",
       " '1188165314174828544',\n",
       " '1571077994180972547',\n",
       " '2777754233',\n",
       " '255139039',\n",
       " '361879829',\n",
       " '128501292',\n",
       " '1094683520',\n",
       " '31551908',\n",
       " '1311829941584039936',\n",
       " '255139039',\n",
       " '23172795',\n",
       " '253036174',\n",
       " '43729216',\n",
       " '1653062239',\n",
       " '335713584',\n",
       " '1462902139462701061',\n",
       " '459300961',\n",
       " '40231795',\n",
       " '461771385',\n",
       " '1420248766423126017',\n",
       " '181425795',\n",
       " '1402438217962508296',\n",
       " '298190124',\n",
       " '68569193',\n",
       " '117978497',\n",
       " '291906276',\n",
       " '893899187741261824',\n",
       " '878024999382245376',\n",
       " '1236741840629649414',\n",
       " '29651030',\n",
       " '47789589',\n",
       " '33888973',\n",
       " '3325738150',\n",
       " '30511557',\n",
       " '1402438217962508296',\n",
       " '443876132',\n",
       " '1519457278570676225',\n",
       " '1356639330437980160',\n",
       " '1248597592000417796',\n",
       " '41546138',\n",
       " '24850140',\n",
       " '126437467',\n",
       " '916849993188855808',\n",
       " '1625066309670273027',\n",
       " '1583859206548951041',\n",
       " '1336515732213886976',\n",
       " '2409793477',\n",
       " '3776301800',\n",
       " '1246376596396785664',\n",
       " '1265441587607322626',\n",
       " '1075819305395195906',\n",
       " '1495931703738519553',\n",
       " '3421817173',\n",
       " '57423613',\n",
       " '705886015416885248',\n",
       " '1487050597685682181',\n",
       " '1309636763057446913',\n",
       " '718325622565642240',\n",
       " '1000521896125976577',\n",
       " '3148642309',\n",
       " '2297419035',\n",
       " '137523718',\n",
       " '49790742',\n",
       " '352898318',\n",
       " '1268559867788353539',\n",
       " '1444138465113825282',\n",
       " '1051074201082388480',\n",
       " '376827005',\n",
       " '3324827884',\n",
       " '1508420653015261186',\n",
       " '1358942504528273408',\n",
       " '2462727526',\n",
       " '55374207',\n",
       " '1557847780911202304',\n",
       " '950331127']"
      ]
     },
     "execution_count": 5,
     "metadata": {},
     "output_type": "execute_result"
    }
   ],
   "source": [
    "user_ids"
   ]
  }
 ],
 "metadata": {
  "kernelspec": {
   "display_name": "base",
   "language": "python",
   "name": "python3"
  },
  "language_info": {
   "codemirror_mode": {
    "name": "ipython",
    "version": 3
   },
   "file_extension": ".py",
   "mimetype": "text/x-python",
   "name": "python",
   "nbconvert_exporter": "python",
   "pygments_lexer": "ipython3",
   "version": "3.8.15"
  },
  "orig_nbformat": 4
 },
 "nbformat": 4,
 "nbformat_minor": 2
}
