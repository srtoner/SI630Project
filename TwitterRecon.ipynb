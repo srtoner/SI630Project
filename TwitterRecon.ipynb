{
 "cells": [
  {
   "cell_type": "code",
   "execution_count": 6,
   "metadata": {},
   "outputs": [],
   "source": [
    "import requests\n",
    "import os\n",
    "import json\n",
    "import pandas as pd\n",
    "import pickle as pkl\n",
    "import TwitterUtils as TU"
   ]
  },
  {
   "cell_type": "markdown",
   "metadata": {},
   "source": [
    "## Exploratory Space For Developing Twitter API Workflow\n",
    "Our first step is to sample some arbitrary number of twitter users. We have done this in the TwitterUtils.py file and are using this document to develop the workflow."
   ]
  },
  {
   "cell_type": "code",
   "execution_count": 7,
   "metadata": {},
   "outputs": [
    {
     "name": "stdout",
     "output_type": "stream",
     "text": [
      "{\"data\": [{\"id\": \"1637510334255710210\", \"value\": \"(a OR the) has:geo lang:en tweets_count:50\", \"tag\": \"active_user\"}], \"meta\": {\"sent\": \"2023-03-20T16:35:00.945Z\", \"result_count\": 1}}\n",
      "{\"meta\": {\"sent\": \"2023-03-20T16:35:02.392Z\", \"summary\": {\"deleted\": 1, \"not_deleted\": 0}}}\n",
      "{\"data\": [{\"value\": \"(a OR the) has:geo lang:en tweets_count:50\", \"tag\": \"active_user\", \"id\": \"1637855276945534976\"}], \"meta\": {\"sent\": \"2023-03-20T16:35:04.252Z\", \"summary\": {\"created\": 1, \"not_created\": 0, \"valid\": 1, \"invalid\": 0}}}\n",
      "{\"data\": [{\"id\": \"1637855276945534976\", \"value\": \"(a OR the) has:geo lang:en tweets_count:50\", \"tag\": \"active_user\"}], \"meta\": {\"sent\": \"2023-03-20T16:35:04.419Z\", \"result_count\": 1}}\n",
      "200\n"
     ]
    }
   ],
   "source": [
    "user_seed = TU.TwitterClient()\n",
    "rules = user_seed.get_rules() # Prints Rule for current Stream; Need to determine if we can repurpose the get_stream to another endpoint\n",
    "user_sample = user_seed.get_stream(rules, sample_size = 100)"
   ]
  },
  {
   "cell_type": "code",
   "execution_count": 4,
   "metadata": {},
   "outputs": [],
   "source": [
    "user_ids = [tweet['data']['author_id'] for tweet in user_sample]\n",
    "user_ids"
   ]
  },
  {
   "cell_type": "code",
   "execution_count": 9,
   "metadata": {},
   "outputs": [],
   "source": [
    "with open(\"places.pkl\", \"rb\") as file:\n",
    "    places = pkl.load(file)"
   ]
  },
  {
   "cell_type": "code",
   "execution_count": 10,
   "metadata": {},
   "outputs": [],
   "source": [
    "places_unpacked = [item  for item in places.values()]\n",
    "def unpack_place(place):\n",
    "    return (place.id, place.name, place.full_name, place.country, place.country_code, place.place_type)\n",
    "\n",
    "unpacked_places = [unpack_place(place) for place in places_unpacked]\n",
    "place_df = pd.DataFrame(unpacked_places, columns = (\"id\", \"name\", \"full_name\", \"country\", \"country_code\", \"type\"))\n"
   ]
  },
  {
   "cell_type": "code",
   "execution_count": 12,
   "metadata": {},
   "outputs": [
    {
     "data": {
      "text/plain": [
       "7369"
      ]
     },
     "execution_count": 12,
     "metadata": {},
     "output_type": "execute_result"
    }
   ],
   "source": [
    "len(unpacked_places)"
   ]
  },
  {
   "cell_type": "code",
   "execution_count": 13,
   "metadata": {},
   "outputs": [
    {
     "data": {
      "text/plain": [
       "174"
      ]
     },
     "execution_count": 13,
     "metadata": {},
     "output_type": "execute_result"
    }
   ],
   "source": [
    "# Load Users\n",
    "len(place_df['country'].unique())"
   ]
  },
  {
   "cell_type": "code",
   "execution_count": 14,
   "metadata": {},
   "outputs": [
    {
     "data": {
      "text/html": [
       "<div>\n",
       "<style scoped>\n",
       "    .dataframe tbody tr th:only-of-type {\n",
       "        vertical-align: middle;\n",
       "    }\n",
       "\n",
       "    .dataframe tbody tr th {\n",
       "        vertical-align: top;\n",
       "    }\n",
       "\n",
       "    .dataframe thead th {\n",
       "        text-align: right;\n",
       "    }\n",
       "</style>\n",
       "<table border=\"1\" class=\"dataframe\">\n",
       "  <thead>\n",
       "    <tr style=\"text-align: right;\">\n",
       "      <th></th>\n",
       "      <th>id</th>\n",
       "      <th>name</th>\n",
       "      <th>full_name</th>\n",
       "      <th>country</th>\n",
       "      <th>country_code</th>\n",
       "      <th>type</th>\n",
       "    </tr>\n",
       "  </thead>\n",
       "  <tbody>\n",
       "    <tr>\n",
       "      <th>0</th>\n",
       "      <td>67b98f17fdcf20be</td>\n",
       "      <td>Boston</td>\n",
       "      <td>Boston, MA</td>\n",
       "      <td>United States</td>\n",
       "      <td>US</td>\n",
       "      <td>city</td>\n",
       "    </tr>\n",
       "    <tr>\n",
       "      <th>1</th>\n",
       "      <td>5c62ffb0f0f3479d</td>\n",
       "      <td>Phoenix</td>\n",
       "      <td>Phoenix, AZ</td>\n",
       "      <td>United States</td>\n",
       "      <td>US</td>\n",
       "      <td>city</td>\n",
       "    </tr>\n",
       "    <tr>\n",
       "      <th>2</th>\n",
       "      <td>8a927a7056322151</td>\n",
       "      <td>Botswana</td>\n",
       "      <td>Botswana</td>\n",
       "      <td>Botswana</td>\n",
       "      <td>BW</td>\n",
       "      <td>country</td>\n",
       "    </tr>\n",
       "    <tr>\n",
       "      <th>3</th>\n",
       "      <td>06168d1feda43857</td>\n",
       "      <td>South East</td>\n",
       "      <td>South East, England</td>\n",
       "      <td>United Kingdom</td>\n",
       "      <td>GB</td>\n",
       "      <td>admin</td>\n",
       "    </tr>\n",
       "    <tr>\n",
       "      <th>4</th>\n",
       "      <td>94d47cc557aa35f4</td>\n",
       "      <td>Nicholasville</td>\n",
       "      <td>Nicholasville, KY</td>\n",
       "      <td>United States</td>\n",
       "      <td>US</td>\n",
       "      <td>city</td>\n",
       "    </tr>\n",
       "    <tr>\n",
       "      <th>...</th>\n",
       "      <td>...</td>\n",
       "      <td>...</td>\n",
       "      <td>...</td>\n",
       "      <td>...</td>\n",
       "      <td>...</td>\n",
       "      <td>...</td>\n",
       "    </tr>\n",
       "    <tr>\n",
       "      <th>7364</th>\n",
       "      <td>486bc865d347cd73</td>\n",
       "      <td>Florin</td>\n",
       "      <td>Florin, CA</td>\n",
       "      <td>United States</td>\n",
       "      <td>US</td>\n",
       "      <td>city</td>\n",
       "    </tr>\n",
       "    <tr>\n",
       "      <th>7365</th>\n",
       "      <td>35f73f0698fa5f98</td>\n",
       "      <td>Athens</td>\n",
       "      <td>Athens, TN</td>\n",
       "      <td>United States</td>\n",
       "      <td>US</td>\n",
       "      <td>city</td>\n",
       "    </tr>\n",
       "    <tr>\n",
       "      <th>7366</th>\n",
       "      <td>00ace66c41e736ad</td>\n",
       "      <td>Mubi</td>\n",
       "      <td>Mubi, Nigeria</td>\n",
       "      <td>Nigeria</td>\n",
       "      <td>NG</td>\n",
       "      <td>city</td>\n",
       "    </tr>\n",
       "    <tr>\n",
       "      <th>7367</th>\n",
       "      <td>fb4d9b85c6daedc1</td>\n",
       "      <td>Nigel</td>\n",
       "      <td>Nigel, South Africa</td>\n",
       "      <td>South Africa</td>\n",
       "      <td>ZA</td>\n",
       "      <td>city</td>\n",
       "    </tr>\n",
       "    <tr>\n",
       "      <th>7368</th>\n",
       "      <td>5351d399e13f979c</td>\n",
       "      <td>Palwal</td>\n",
       "      <td>Palwal, India</td>\n",
       "      <td>India</td>\n",
       "      <td>IN</td>\n",
       "      <td>city</td>\n",
       "    </tr>\n",
       "  </tbody>\n",
       "</table>\n",
       "<p>7369 rows × 6 columns</p>\n",
       "</div>"
      ],
      "text/plain": [
       "                    id           name            full_name         country  \\\n",
       "0     67b98f17fdcf20be         Boston           Boston, MA   United States   \n",
       "1     5c62ffb0f0f3479d        Phoenix          Phoenix, AZ   United States   \n",
       "2     8a927a7056322151       Botswana             Botswana        Botswana   \n",
       "3     06168d1feda43857     South East  South East, England  United Kingdom   \n",
       "4     94d47cc557aa35f4  Nicholasville    Nicholasville, KY   United States   \n",
       "...                ...            ...                  ...             ...   \n",
       "7364  486bc865d347cd73         Florin           Florin, CA   United States   \n",
       "7365  35f73f0698fa5f98         Athens           Athens, TN   United States   \n",
       "7366  00ace66c41e736ad           Mubi        Mubi, Nigeria         Nigeria   \n",
       "7367  fb4d9b85c6daedc1          Nigel  Nigel, South Africa    South Africa   \n",
       "7368  5351d399e13f979c         Palwal        Palwal, India           India   \n",
       "\n",
       "     country_code     type  \n",
       "0              US     city  \n",
       "1              US     city  \n",
       "2              BW  country  \n",
       "3              GB    admin  \n",
       "4              US     city  \n",
       "...           ...      ...  \n",
       "7364           US     city  \n",
       "7365           US     city  \n",
       "7366           NG     city  \n",
       "7367           ZA     city  \n",
       "7368           IN     city  \n",
       "\n",
       "[7369 rows x 6 columns]"
      ]
     },
     "execution_count": 14,
     "metadata": {},
     "output_type": "execute_result"
    }
   ],
   "source": [
    "place_df"
   ]
  },
  {
   "cell_type": "markdown",
   "metadata": {},
   "source": [
    "## Creating The Dataframe"
   ]
  },
  {
   "cell_type": "code",
   "execution_count": 15,
   "metadata": {},
   "outputs": [],
   "source": [
    "with open(\"users.json\", \"r\") as file:\n",
    "    user_json = file.read()"
   ]
  },
  {
   "cell_type": "code",
   "execution_count": 16,
   "metadata": {},
   "outputs": [],
   "source": [
    "test = '{\"total\": [' + user_json.replace(\"}{\", \"},{\") + \"]}\""
   ]
  },
  {
   "cell_type": "code",
   "execution_count": 17,
   "metadata": {},
   "outputs": [
    {
     "data": {
      "text/plain": [
       "12409475"
      ]
     },
     "execution_count": 17,
     "metadata": {},
     "output_type": "execute_result"
    }
   ],
   "source": [
    "len(test)"
   ]
  },
  {
   "cell_type": "code",
   "execution_count": 18,
   "metadata": {},
   "outputs": [],
   "source": [
    "user_data = json.loads(test)"
   ]
  },
  {
   "cell_type": "code",
   "execution_count": 19,
   "metadata": {},
   "outputs": [],
   "source": [
    "users = [u['data'] for u in user_data[\"total\"]]"
   ]
  },
  {
   "cell_type": "code",
   "execution_count": 20,
   "metadata": {},
   "outputs": [],
   "source": [
    "flat_list = [user_id for user in users for user_id in user]"
   ]
  },
  {
   "cell_type": "code",
   "execution_count": 22,
   "metadata": {},
   "outputs": [
    {
     "data": {
      "text/plain": [
       "51000"
      ]
     },
     "execution_count": 22,
     "metadata": {},
     "output_type": "execute_result"
    }
   ],
   "source": [
    "len(flat_list)"
   ]
  },
  {
   "cell_type": "code",
   "execution_count": 46,
   "metadata": {},
   "outputs": [
    {
     "data": {
      "text/plain": [
       "1700"
      ]
     },
     "execution_count": 46,
     "metadata": {},
     "output_type": "execute_result"
    }
   ],
   "source": [
    "len(flat_list)"
   ]
  },
  {
   "cell_type": "code",
   "execution_count": 24,
   "metadata": {},
   "outputs": [],
   "source": [
    "users_df = pd.DataFrame(flat_list)"
   ]
  },
  {
   "cell_type": "code",
   "execution_count": 25,
   "metadata": {},
   "outputs": [
    {
     "data": {
      "text/html": [
       "<div>\n",
       "<style scoped>\n",
       "    .dataframe tbody tr th:only-of-type {\n",
       "        vertical-align: middle;\n",
       "    }\n",
       "\n",
       "    .dataframe tbody tr th {\n",
       "        vertical-align: top;\n",
       "    }\n",
       "\n",
       "    .dataframe thead th {\n",
       "        text-align: right;\n",
       "    }\n",
       "</style>\n",
       "<table border=\"1\" class=\"dataframe\">\n",
       "  <thead>\n",
       "    <tr style=\"text-align: right;\">\n",
       "      <th></th>\n",
       "      <th>username</th>\n",
       "      <th>description</th>\n",
       "      <th>id</th>\n",
       "      <th>name</th>\n",
       "      <th>location</th>\n",
       "      <th>withheld</th>\n",
       "    </tr>\n",
       "  </thead>\n",
       "  <tbody>\n",
       "    <tr>\n",
       "      <th>0</th>\n",
       "      <td>iam_rousey</td>\n",
       "      <td>🌷I BELIEVE IN GOD✊💪||💐PSALM 51 🙏💐||UDSM Alumni...</td>\n",
       "      <td>1293183874386731008</td>\n",
       "      <td>🦹‍♀️𝐇𝐄𝐑𝐎𝐈𝐍𝐄𝐑𝐎𝐒𝐄 🦋</td>\n",
       "      <td>Arusha,Tanzania</td>\n",
       "      <td>NaN</td>\n",
       "    </tr>\n",
       "    <tr>\n",
       "      <th>1</th>\n",
       "      <td>Pavanasoonu</td>\n",
       "      <td>Global SAP Tech.  #Jyotishkatti. Spiritual cou...</td>\n",
       "      <td>1051074201082388480</td>\n",
       "      <td>Pavanasoonu</td>\n",
       "      <td>Bengaluru, India</td>\n",
       "      <td>NaN</td>\n",
       "    </tr>\n",
       "    <tr>\n",
       "      <th>2</th>\n",
       "      <td>JohnCam14394418</td>\n",
       "      <td></td>\n",
       "      <td>1625506362515152898</td>\n",
       "      <td>John Campbell</td>\n",
       "      <td>NaN</td>\n",
       "      <td>NaN</td>\n",
       "    </tr>\n",
       "    <tr>\n",
       "      <th>3</th>\n",
       "      <td>realsast</td>\n",
       "      <td>14, 🇸🇪, ASD, ADHD, He/Him, #gdtwt, #daputwt, B...</td>\n",
       "      <td>1300118462329769986</td>\n",
       "      <td>Simon</td>\n",
       "      <td>Helsingborg, Sverige</td>\n",
       "      <td>NaN</td>\n",
       "    </tr>\n",
       "    <tr>\n",
       "      <th>4</th>\n",
       "      <td>AmaBoukman1804</td>\n",
       "      <td>I am a moderate; the world is radically unjust...</td>\n",
       "      <td>2586324829</td>\n",
       "      <td>Ama Boukman</td>\n",
       "      <td>United States</td>\n",
       "      <td>NaN</td>\n",
       "    </tr>\n",
       "    <tr>\n",
       "      <th>...</th>\n",
       "      <td>...</td>\n",
       "      <td>...</td>\n",
       "      <td>...</td>\n",
       "      <td>...</td>\n",
       "      <td>...</td>\n",
       "      <td>...</td>\n",
       "    </tr>\n",
       "    <tr>\n",
       "      <th>50995</th>\n",
       "      <td>Sal_of_Lourdes</td>\n",
       "      <td>An NFP Sanctuary for all. Live by Fr. Bob’s 5 ...</td>\n",
       "      <td>1381214332114010114</td>\n",
       "      <td>Fr. Bob’s Lourdes Camel &amp; Cobber Sanctuary🐪❤️</td>\n",
       "      <td>Mt. Lonarch, Vic, Aus</td>\n",
       "      <td>NaN</td>\n",
       "    </tr>\n",
       "    <tr>\n",
       "      <th>50996</th>\n",
       "      <td>loydhogan2</td>\n",
       "      <td>😉</td>\n",
       "      <td>1508540417821720581</td>\n",
       "      <td>Loyd Hogan</td>\n",
       "      <td>the Disneyland on the Duwamish</td>\n",
       "      <td>NaN</td>\n",
       "    </tr>\n",
       "    <tr>\n",
       "      <th>50997</th>\n",
       "      <td>karenfthompson</td>\n",
       "      <td>little village oike from Goffs Oak ..blonde an...</td>\n",
       "      <td>56322343</td>\n",
       "      <td>karen thompson</td>\n",
       "      <td>suffolk/London</td>\n",
       "      <td>NaN</td>\n",
       "    </tr>\n",
       "    <tr>\n",
       "      <th>50998</th>\n",
       "      <td>drsandeepdu</td>\n",
       "      <td>Professor of English in Delhi University. Auth...</td>\n",
       "      <td>770513549043064832</td>\n",
       "      <td>Dr Sandeep Yadav</td>\n",
       "      <td>New Delhi, India</td>\n",
       "      <td>NaN</td>\n",
       "    </tr>\n",
       "    <tr>\n",
       "      <th>50999</th>\n",
       "      <td>Jakebcfc_</td>\n",
       "      <td>Founding member of the Matt O'Riley fan club. ...</td>\n",
       "      <td>1042209973252620288</td>\n",
       "      <td>Jake🇦🇷</td>\n",
       "      <td>Birmingham, England</td>\n",
       "      <td>NaN</td>\n",
       "    </tr>\n",
       "  </tbody>\n",
       "</table>\n",
       "<p>51000 rows × 6 columns</p>\n",
       "</div>"
      ],
      "text/plain": [
       "              username                                        description  \\\n",
       "0           iam_rousey  🌷I BELIEVE IN GOD✊💪||💐PSALM 51 🙏💐||UDSM Alumni...   \n",
       "1          Pavanasoonu  Global SAP Tech.  #Jyotishkatti. Spiritual cou...   \n",
       "2      JohnCam14394418                                                      \n",
       "3             realsast  14, 🇸🇪, ASD, ADHD, He/Him, #gdtwt, #daputwt, B...   \n",
       "4       AmaBoukman1804  I am a moderate; the world is radically unjust...   \n",
       "...                ...                                                ...   \n",
       "50995   Sal_of_Lourdes  An NFP Sanctuary for all. Live by Fr. Bob’s 5 ...   \n",
       "50996       loydhogan2                                                  😉   \n",
       "50997   karenfthompson  little village oike from Goffs Oak ..blonde an...   \n",
       "50998      drsandeepdu  Professor of English in Delhi University. Auth...   \n",
       "50999        Jakebcfc_  Founding member of the Matt O'Riley fan club. ...   \n",
       "\n",
       "                        id                                           name  \\\n",
       "0      1293183874386731008                              🦹‍♀️𝐇𝐄𝐑𝐎𝐈𝐍𝐄𝐑𝐎𝐒𝐄 🦋   \n",
       "1      1051074201082388480                                    Pavanasoonu   \n",
       "2      1625506362515152898                                  John Campbell   \n",
       "3      1300118462329769986                                          Simon   \n",
       "4               2586324829                                    Ama Boukman   \n",
       "...                    ...                                            ...   \n",
       "50995  1381214332114010114  Fr. Bob’s Lourdes Camel & Cobber Sanctuary🐪❤️   \n",
       "50996  1508540417821720581                                     Loyd Hogan   \n",
       "50997             56322343                                 karen thompson   \n",
       "50998   770513549043064832                               Dr Sandeep Yadav   \n",
       "50999  1042209973252620288                                         Jake🇦🇷   \n",
       "\n",
       "                             location withheld  \n",
       "0                     Arusha,Tanzania      NaN  \n",
       "1                    Bengaluru, India      NaN  \n",
       "2                                 NaN      NaN  \n",
       "3                Helsingborg, Sverige      NaN  \n",
       "4                       United States      NaN  \n",
       "...                               ...      ...  \n",
       "50995           Mt. Lonarch, Vic, Aus      NaN  \n",
       "50996  the Disneyland on the Duwamish      NaN  \n",
       "50997                  suffolk/London      NaN  \n",
       "50998                New Delhi, India      NaN  \n",
       "50999             Birmingham, England      NaN  \n",
       "\n",
       "[51000 rows x 6 columns]"
      ]
     },
     "execution_count": 25,
     "metadata": {},
     "output_type": "execute_result"
    }
   ],
   "source": [
    "users_df"
   ]
  },
  {
   "cell_type": "code",
   "execution_count": 28,
   "metadata": {},
   "outputs": [
    {
     "data": {
      "text/plain": [
       "51000"
      ]
     },
     "execution_count": 28,
     "metadata": {},
     "output_type": "execute_result"
    }
   ],
   "source": [
    "# users_df = users_df.drop(['withheld'], axis = 1)\n",
    "len(users_df)"
   ]
  },
  {
   "cell_type": "code",
   "execution_count": 51,
   "metadata": {},
   "outputs": [
    {
     "data": {
      "text/plain": [
       "(1700, 5)"
      ]
     },
     "execution_count": 51,
     "metadata": {},
     "output_type": "execute_result"
    }
   ],
   "source": [
    "users_df.shape"
   ]
  },
  {
   "cell_type": "code",
   "execution_count": 54,
   "metadata": {},
   "outputs": [],
   "source": [
    "users_list = [users_df['username']]"
   ]
  },
  {
   "cell_type": "code",
   "execution_count": null,
   "metadata": {},
   "outputs": [],
   "source": []
  },
  {
   "cell_type": "code",
   "execution_count": 29,
   "metadata": {},
   "outputs": [],
   "source": [
    "with open(\"tweets-with-place.json\", \"r\") as f:\n",
    "    tweet_json = f.read()"
   ]
  },
  {
   "cell_type": "code",
   "execution_count": 31,
   "metadata": {},
   "outputs": [
    {
     "data": {
      "text/plain": [
       "101563"
      ]
     },
     "execution_count": 31,
     "metadata": {},
     "output_type": "execute_result"
    }
   ],
   "source": [
    "len(tweet_json)"
   ]
  },
  {
   "cell_type": "code",
   "execution_count": 32,
   "metadata": {},
   "outputs": [],
   "source": [
    "tweets_data = json.loads(tweet_json)"
   ]
  },
  {
   "cell_type": "code",
   "execution_count": 33,
   "metadata": {},
   "outputs": [
    {
     "data": {
      "text/plain": [
       "385"
      ]
     },
     "execution_count": 33,
     "metadata": {},
     "output_type": "execute_result"
    }
   ],
   "source": [
    "len(tweets_data)"
   ]
  },
  {
   "cell_type": "code",
   "execution_count": 34,
   "metadata": {},
   "outputs": [],
   "source": [
    "tweets_df = pd.DataFrame(tweets_data)"
   ]
  },
  {
   "cell_type": "code",
   "execution_count": 35,
   "metadata": {},
   "outputs": [
    {
     "data": {
      "text/html": [
       "<div>\n",
       "<style scoped>\n",
       "    .dataframe tbody tr th:only-of-type {\n",
       "        vertical-align: middle;\n",
       "    }\n",
       "\n",
       "    .dataframe tbody tr th {\n",
       "        vertical-align: top;\n",
       "    }\n",
       "\n",
       "    .dataframe thead th {\n",
       "        text-align: right;\n",
       "    }\n",
       "</style>\n",
       "<table border=\"1\" class=\"dataframe\">\n",
       "  <thead>\n",
       "    <tr style=\"text-align: right;\">\n",
       "      <th></th>\n",
       "      <th>user_id</th>\n",
       "      <th>tweet_id</th>\n",
       "      <th>tweet_text</th>\n",
       "      <th>place_id</th>\n",
       "    </tr>\n",
       "  </thead>\n",
       "  <tbody>\n",
       "    <tr>\n",
       "      <th>0</th>\n",
       "      <td>1051074201082388480</td>\n",
       "      <td>1637850668214960128</td>\n",
       "      <td>@Gajendr70729189 @amitsharma2704 @1shankarshar...</td>\n",
       "      <td>5f55bb82cf16ac81</td>\n",
       "    </tr>\n",
       "    <tr>\n",
       "      <th>1</th>\n",
       "      <td>1051074201082388480</td>\n",
       "      <td>1637818231863001090</td>\n",
       "      <td>@JatinPandyaVBNJ @1shankarsharma Indeed.  Nadi...</td>\n",
       "      <td>5f55bb82cf16ac81</td>\n",
       "    </tr>\n",
       "    <tr>\n",
       "      <th>2</th>\n",
       "      <td>1051074201082388480</td>\n",
       "      <td>1637817169626148864</td>\n",
       "      <td>@Skay7yay @1shankarsharma Namaste.  It's OK to...</td>\n",
       "      <td>5f55bb82cf16ac81</td>\n",
       "    </tr>\n",
       "    <tr>\n",
       "      <th>3</th>\n",
       "      <td>2586324829</td>\n",
       "      <td>1637854183956045838</td>\n",
       "      <td>@desounds Black people united in pursuit of po...</td>\n",
       "      <td>9902fe95fc7596a7</td>\n",
       "    </tr>\n",
       "    <tr>\n",
       "      <th>4</th>\n",
       "      <td>2586324829</td>\n",
       "      <td>1637852746597425164</td>\n",
       "      <td>@desounds What's good for the goose is good fo...</td>\n",
       "      <td>9902fe95fc7596a7</td>\n",
       "    </tr>\n",
       "  </tbody>\n",
       "</table>\n",
       "</div>"
      ],
      "text/plain": [
       "               user_id             tweet_id  \\\n",
       "0  1051074201082388480  1637850668214960128   \n",
       "1  1051074201082388480  1637818231863001090   \n",
       "2  1051074201082388480  1637817169626148864   \n",
       "3           2586324829  1637854183956045838   \n",
       "4           2586324829  1637852746597425164   \n",
       "\n",
       "                                          tweet_text          place_id  \n",
       "0  @Gajendr70729189 @amitsharma2704 @1shankarshar...  5f55bb82cf16ac81  \n",
       "1  @JatinPandyaVBNJ @1shankarsharma Indeed.  Nadi...  5f55bb82cf16ac81  \n",
       "2  @Skay7yay @1shankarsharma Namaste.  It's OK to...  5f55bb82cf16ac81  \n",
       "3  @desounds Black people united in pursuit of po...  9902fe95fc7596a7  \n",
       "4  @desounds What's good for the goose is good fo...  9902fe95fc7596a7  "
      ]
     },
     "execution_count": 35,
     "metadata": {},
     "output_type": "execute_result"
    }
   ],
   "source": [
    "tweets_df.head()"
   ]
  },
  {
   "cell_type": "code",
   "execution_count": 66,
   "metadata": {},
   "outputs": [
    {
     "data": {
      "text/html": [
       "<div>\n",
       "<style scoped>\n",
       "    .dataframe tbody tr th:only-of-type {\n",
       "        vertical-align: middle;\n",
       "    }\n",
       "\n",
       "    .dataframe tbody tr th {\n",
       "        vertical-align: top;\n",
       "    }\n",
       "\n",
       "    .dataframe thead th {\n",
       "        text-align: right;\n",
       "    }\n",
       "</style>\n",
       "<table border=\"1\" class=\"dataframe\">\n",
       "  <thead>\n",
       "    <tr style=\"text-align: right;\">\n",
       "      <th></th>\n",
       "      <th>user_id</th>\n",
       "      <th>tweet_id</th>\n",
       "      <th>tweet_text</th>\n",
       "      <th>place_id</th>\n",
       "    </tr>\n",
       "  </thead>\n",
       "  <tbody>\n",
       "    <tr>\n",
       "      <th>0</th>\n",
       "      <td>1293183874386731008</td>\n",
       "      <td>1636425265797648385</td>\n",
       "      <td>@Adventure_36 Ulikuwa hujui wakili wangu</td>\n",
       "      <td>003f4a527524b7ee</td>\n",
       "    </tr>\n",
       "    <tr>\n",
       "      <th>1</th>\n",
       "      <td>1051074201082388480</td>\n",
       "      <td>1636441725240766464</td>\n",
       "      <td>The unknown gives you unlimited freedom.  \\n\\n...</td>\n",
       "      <td>5f55bb82cf16ac81</td>\n",
       "    </tr>\n",
       "    <tr>\n",
       "      <th>2</th>\n",
       "      <td>1051074201082388480</td>\n",
       "      <td>1636438839924498432</td>\n",
       "      <td>@patsing10 Wonderful Sir.</td>\n",
       "      <td>5f55bb82cf16ac81</td>\n",
       "    </tr>\n",
       "    <tr>\n",
       "      <th>3</th>\n",
       "      <td>1051074201082388480</td>\n",
       "      <td>1636436439327186944</td>\n",
       "      <td>Ok.  Jaya Shree Rama https://t.co/sdW2J4OXvb</td>\n",
       "      <td>5f55bb82cf16ac81</td>\n",
       "    </tr>\n",
       "    <tr>\n",
       "      <th>4</th>\n",
       "      <td>1051074201082388480</td>\n",
       "      <td>1636435567197171712</td>\n",
       "      <td>@nallanhara Excellent. Go ahead please</td>\n",
       "      <td>5f55bb82cf16ac81</td>\n",
       "    </tr>\n",
       "    <tr>\n",
       "      <th>5</th>\n",
       "      <td>1625506362515152898</td>\n",
       "      <td>1636419324675264514</td>\n",
       "      <td>@mariewalsh18 Hahaha 🤣😂</td>\n",
       "      <td>0079932b106eb4c9</td>\n",
       "    </tr>\n",
       "    <tr>\n",
       "      <th>6</th>\n",
       "      <td>1625506362515152898</td>\n",
       "      <td>1636413400808034304</td>\n",
       "      <td>@mariewalsh18 Same.. 3 days is minimal...</td>\n",
       "      <td>0079932b106eb4c9</td>\n",
       "    </tr>\n",
       "    <tr>\n",
       "      <th>7</th>\n",
       "      <td>1300118462329769986</td>\n",
       "      <td>1636465093947826176</td>\n",
       "      <td>@cywrId You’re not the only person in the worl...</td>\n",
       "      <td>2406f69310767a43</td>\n",
       "    </tr>\n",
       "    <tr>\n",
       "      <th>8</th>\n",
       "      <td>2586324829</td>\n",
       "      <td>1636463062587678727</td>\n",
       "      <td>Get ready for increases in child poverty and t...</td>\n",
       "      <td>7af0fb6f137530df</td>\n",
       "    </tr>\n",
       "    <tr>\n",
       "      <th>9</th>\n",
       "      <td>2586324829</td>\n",
       "      <td>1636461534225354752</td>\n",
       "      <td>I hate Republicans. 😒 https://t.co/lXKrejMODb</td>\n",
       "      <td>7af0fb6f137530df</td>\n",
       "    </tr>\n",
       "    <tr>\n",
       "      <th>10</th>\n",
       "      <td>2586324829</td>\n",
       "      <td>1636451630945124354</td>\n",
       "      <td>@gerardgerard No. But the issue is not just Ti...</td>\n",
       "      <td>7af0fb6f137530df</td>\n",
       "    </tr>\n",
       "    <tr>\n",
       "      <th>11</th>\n",
       "      <td>2586324829</td>\n",
       "      <td>1636215296443793408</td>\n",
       "      <td>@YeahYeah1972 Shoulda complied https://t.co/dx...</td>\n",
       "      <td>9902fe95fc7596a7</td>\n",
       "    </tr>\n",
       "    <tr>\n",
       "      <th>12</th>\n",
       "      <td>2586324829</td>\n",
       "      <td>1636213379504250880</td>\n",
       "      <td>These assholes insist that all children concei...</td>\n",
       "      <td>9902fe95fc7596a7</td>\n",
       "    </tr>\n",
       "    <tr>\n",
       "      <th>13</th>\n",
       "      <td>2586324829</td>\n",
       "      <td>1636212842255863809</td>\n",
       "      <td>@Chaya94237452 @CBoTheEggman @JasonSCampbell @...</td>\n",
       "      <td>9902fe95fc7596a7</td>\n",
       "    </tr>\n",
       "    <tr>\n",
       "      <th>14</th>\n",
       "      <td>1028124989566922752</td>\n",
       "      <td>1635495428492853249</td>\n",
       "      <td>@Donofritos 😂😂😂 hahaha I remember walking into...</td>\n",
       "      <td>36f6e625182fae8b</td>\n",
       "    </tr>\n",
       "    <tr>\n",
       "      <th>15</th>\n",
       "      <td>1028124989566922752</td>\n",
       "      <td>1635447694071062528</td>\n",
       "      <td>black hair supremacy &amp;lt;3 ALWAYS</td>\n",
       "      <td>dc62519fda13b4ec</td>\n",
       "    </tr>\n",
       "    <tr>\n",
       "      <th>16</th>\n",
       "      <td>753776473056616448</td>\n",
       "      <td>1635495428912447488</td>\n",
       "      <td>@Benihana I was just at your Ontario location ...</td>\n",
       "      <td>895f19a3c08d3d35</td>\n",
       "    </tr>\n",
       "    <tr>\n",
       "      <th>17</th>\n",
       "      <td>753776473056616448</td>\n",
       "      <td>1630368824863395840</td>\n",
       "      <td>@chaseelliott biggest fan showing dislike for ...</td>\n",
       "      <td>07d9db25a6486001</td>\n",
       "    </tr>\n",
       "    <tr>\n",
       "      <th>18</th>\n",
       "      <td>753776473056616448</td>\n",
       "      <td>1604013380976902145</td>\n",
       "      <td>@OriginalTommys service at your Ontario locati...</td>\n",
       "      <td>cf2d9d01f16e9bd4</td>\n",
       "    </tr>\n",
       "    <tr>\n",
       "      <th>19</th>\n",
       "      <td>753776473056616448</td>\n",
       "      <td>1584953408402124802</td>\n",
       "      <td>@POTUS Where is it 3.49?? Not in California</td>\n",
       "      <td>d838baf51d1c629d</td>\n",
       "    </tr>\n",
       "  </tbody>\n",
       "</table>\n",
       "</div>"
      ],
      "text/plain": [
       "                user_id             tweet_id  \\\n",
       "0   1293183874386731008  1636425265797648385   \n",
       "1   1051074201082388480  1636441725240766464   \n",
       "2   1051074201082388480  1636438839924498432   \n",
       "3   1051074201082388480  1636436439327186944   \n",
       "4   1051074201082388480  1636435567197171712   \n",
       "5   1625506362515152898  1636419324675264514   \n",
       "6   1625506362515152898  1636413400808034304   \n",
       "7   1300118462329769986  1636465093947826176   \n",
       "8            2586324829  1636463062587678727   \n",
       "9            2586324829  1636461534225354752   \n",
       "10           2586324829  1636451630945124354   \n",
       "11           2586324829  1636215296443793408   \n",
       "12           2586324829  1636213379504250880   \n",
       "13           2586324829  1636212842255863809   \n",
       "14  1028124989566922752  1635495428492853249   \n",
       "15  1028124989566922752  1635447694071062528   \n",
       "16   753776473056616448  1635495428912447488   \n",
       "17   753776473056616448  1630368824863395840   \n",
       "18   753776473056616448  1604013380976902145   \n",
       "19   753776473056616448  1584953408402124802   \n",
       "\n",
       "                                           tweet_text          place_id  \n",
       "0            @Adventure_36 Ulikuwa hujui wakili wangu  003f4a527524b7ee  \n",
       "1   The unknown gives you unlimited freedom.  \\n\\n...  5f55bb82cf16ac81  \n",
       "2                           @patsing10 Wonderful Sir.  5f55bb82cf16ac81  \n",
       "3        Ok.  Jaya Shree Rama https://t.co/sdW2J4OXvb  5f55bb82cf16ac81  \n",
       "4              @nallanhara Excellent. Go ahead please  5f55bb82cf16ac81  \n",
       "5                             @mariewalsh18 Hahaha 🤣😂  0079932b106eb4c9  \n",
       "6           @mariewalsh18 Same.. 3 days is minimal...  0079932b106eb4c9  \n",
       "7   @cywrId You’re not the only person in the worl...  2406f69310767a43  \n",
       "8   Get ready for increases in child poverty and t...  7af0fb6f137530df  \n",
       "9       I hate Republicans. 😒 https://t.co/lXKrejMODb  7af0fb6f137530df  \n",
       "10  @gerardgerard No. But the issue is not just Ti...  7af0fb6f137530df  \n",
       "11  @YeahYeah1972 Shoulda complied https://t.co/dx...  9902fe95fc7596a7  \n",
       "12  These assholes insist that all children concei...  9902fe95fc7596a7  \n",
       "13  @Chaya94237452 @CBoTheEggman @JasonSCampbell @...  9902fe95fc7596a7  \n",
       "14  @Donofritos 😂😂😂 hahaha I remember walking into...  36f6e625182fae8b  \n",
       "15                  black hair supremacy &lt;3 ALWAYS  dc62519fda13b4ec  \n",
       "16  @Benihana I was just at your Ontario location ...  895f19a3c08d3d35  \n",
       "17  @chaseelliott biggest fan showing dislike for ...  07d9db25a6486001  \n",
       "18  @OriginalTommys service at your Ontario locati...  cf2d9d01f16e9bd4  \n",
       "19        @POTUS Where is it 3.49?? Not in California  d838baf51d1c629d  "
      ]
     },
     "execution_count": 66,
     "metadata": {},
     "output_type": "execute_result"
    }
   ],
   "source": [
    "tweets_df.head(20)"
   ]
  },
  {
   "cell_type": "code",
   "execution_count": 37,
   "metadata": {},
   "outputs": [],
   "source": [
    "with open(\"user_data_temp.pkl\", \"rb\") as file:\n",
    "    tweet_samples = pkl.load(file)"
   ]
  },
  {
   "cell_type": "code",
   "execution_count": 41,
   "metadata": {},
   "outputs": [
    {
     "data": {
      "text/html": [
       "<div>\n",
       "<style scoped>\n",
       "    .dataframe tbody tr th:only-of-type {\n",
       "        vertical-align: middle;\n",
       "    }\n",
       "\n",
       "    .dataframe tbody tr th {\n",
       "        vertical-align: top;\n",
       "    }\n",
       "\n",
       "    .dataframe thead th {\n",
       "        text-align: right;\n",
       "    }\n",
       "</style>\n",
       "<table border=\"1\" class=\"dataframe\">\n",
       "  <thead>\n",
       "    <tr style=\"text-align: right;\">\n",
       "      <th></th>\n",
       "      <th>user_id</th>\n",
       "      <th>tweet_text</th>\n",
       "      <th>place_id</th>\n",
       "    </tr>\n",
       "    <tr>\n",
       "      <th>tweet_id</th>\n",
       "      <th></th>\n",
       "      <th></th>\n",
       "      <th></th>\n",
       "    </tr>\n",
       "  </thead>\n",
       "  <tbody>\n",
       "    <tr>\n",
       "      <th>1001883984320593920</th>\n",
       "      <td>1</td>\n",
       "      <td>1</td>\n",
       "      <td>1</td>\n",
       "    </tr>\n",
       "    <tr>\n",
       "      <th>1005529958263844864</th>\n",
       "      <td>1</td>\n",
       "      <td>1</td>\n",
       "      <td>1</td>\n",
       "    </tr>\n",
       "    <tr>\n",
       "      <th>1005586840274038784</th>\n",
       "      <td>1</td>\n",
       "      <td>1</td>\n",
       "      <td>1</td>\n",
       "    </tr>\n",
       "    <tr>\n",
       "      <th>1005944998439813121</th>\n",
       "      <td>1</td>\n",
       "      <td>1</td>\n",
       "      <td>1</td>\n",
       "    </tr>\n",
       "    <tr>\n",
       "      <th>1008541699688226816</th>\n",
       "      <td>1</td>\n",
       "      <td>1</td>\n",
       "      <td>1</td>\n",
       "    </tr>\n",
       "    <tr>\n",
       "      <th>...</th>\n",
       "      <td>...</td>\n",
       "      <td>...</td>\n",
       "      <td>...</td>\n",
       "    </tr>\n",
       "    <tr>\n",
       "      <th>996769355441598465</th>\n",
       "      <td>2</td>\n",
       "      <td>2</td>\n",
       "      <td>2</td>\n",
       "    </tr>\n",
       "    <tr>\n",
       "      <th>996942546377981952</th>\n",
       "      <td>1</td>\n",
       "      <td>1</td>\n",
       "      <td>1</td>\n",
       "    </tr>\n",
       "    <tr>\n",
       "      <th>997705777035919360</th>\n",
       "      <td>1</td>\n",
       "      <td>1</td>\n",
       "      <td>1</td>\n",
       "    </tr>\n",
       "    <tr>\n",
       "      <th>998449513843970048</th>\n",
       "      <td>1</td>\n",
       "      <td>1</td>\n",
       "      <td>1</td>\n",
       "    </tr>\n",
       "    <tr>\n",
       "      <th>999905126163738624</th>\n",
       "      <td>1</td>\n",
       "      <td>1</td>\n",
       "      <td>1</td>\n",
       "    </tr>\n",
       "  </tbody>\n",
       "</table>\n",
       "<p>490294 rows × 3 columns</p>\n",
       "</div>"
      ],
      "text/plain": [
       "                     user_id  tweet_text  place_id\n",
       "tweet_id                                          \n",
       "1001883984320593920        1           1         1\n",
       "1005529958263844864        1           1         1\n",
       "1005586840274038784        1           1         1\n",
       "1005944998439813121        1           1         1\n",
       "1008541699688226816        1           1         1\n",
       "...                      ...         ...       ...\n",
       "996769355441598465         2           2         2\n",
       "996942546377981952         1           1         1\n",
       "997705777035919360         1           1         1\n",
       "998449513843970048         1           1         1\n",
       "999905126163738624         1           1         1\n",
       "\n",
       "[490294 rows x 3 columns]"
      ]
     },
     "execution_count": 41,
     "metadata": {},
     "output_type": "execute_result"
    }
   ],
   "source": [
    "pd.DataFrame(tweet_samples).groupby(['tweet_id']).agg('count')\n",
    "# 15K Users sampled so far"
   ]
  }
 ],
 "metadata": {
  "kernelspec": {
   "display_name": "Python 3.8.8 ('base')",
   "language": "python",
   "name": "python3"
  },
  "language_info": {
   "codemirror_mode": {
    "name": "ipython",
    "version": 3
   },
   "file_extension": ".py",
   "mimetype": "text/x-python",
   "name": "python",
   "nbconvert_exporter": "python",
   "pygments_lexer": "ipython3",
   "version": "3.8.8"
  },
  "orig_nbformat": 4,
  "vscode": {
   "interpreter": {
    "hash": "ad2bdc8ecc057115af97d19610ffacc2b4e99fae6737bb82f5d7fb13d2f2c186"
   }
  }
 },
 "nbformat": 4,
 "nbformat_minor": 2
}
