{
 "cells": [
  {
   "cell_type": "code",
<<<<<<< HEAD
   "execution_count": null,
=======
   "execution_count": 2,
   "id": "a6e08da1",
   "metadata": {},
   "outputs": [
    {
     "name": "stdout",
     "output_type": "stream",
     "text": [
      "Defaulting to user installation because normal site-packages is not writeable\n",
      "Collecting captum\n",
      "  Downloading captum-0.6.0-py3-none-any.whl (1.3 MB)\n",
      "\u001b[K     |████████████████████████████████| 1.3 MB 16.0 MB/s eta 0:00:01\n",
      "\u001b[?25hRequirement already satisfied: numpy in /home/srtoner/.local/lib/python3.9/site-packages (from captum) (1.21.4)\n",
      "Requirement already satisfied: matplotlib in /home/srtoner/.local/lib/python3.9/site-packages (from captum) (3.5.0)\n",
      "Requirement already satisfied: torch>=1.6 in /home/srtoner/.local/lib/python3.9/site-packages (from captum) (1.13.0)\n",
      "Requirement already satisfied: nvidia-cublas-cu11==11.10.3.66 in /home/srtoner/.local/lib/python3.9/site-packages (from torch>=1.6->captum) (11.10.3.66)\n",
      "Requirement already satisfied: typing-extensions in /home/srtoner/.local/lib/python3.9/site-packages (from torch>=1.6->captum) (4.0.1)\n",
      "Requirement already satisfied: nvidia-cuda-nvrtc-cu11==11.7.99 in /home/srtoner/.local/lib/python3.9/site-packages (from torch>=1.6->captum) (11.7.99)\n",
      "Requirement already satisfied: nvidia-cudnn-cu11==8.5.0.96 in /home/srtoner/.local/lib/python3.9/site-packages (from torch>=1.6->captum) (8.5.0.96)\n",
      "Requirement already satisfied: nvidia-cuda-runtime-cu11==11.7.99 in /home/srtoner/.local/lib/python3.9/site-packages (from torch>=1.6->captum) (11.7.99)\n",
      "Requirement already satisfied: wheel in /home/srtoner/.local/lib/python3.9/site-packages (from nvidia-cublas-cu11==11.10.3.66->torch>=1.6->captum) (0.37.0)\n",
      "Requirement already satisfied: setuptools in /sw/pkgs/arc/python3.9-anaconda/2021.11/lib/python3.9/site-packages (from nvidia-cublas-cu11==11.10.3.66->torch>=1.6->captum) (58.0.4)\n",
      "Requirement already satisfied: python-dateutil>=2.7 in /home/srtoner/.local/lib/python3.9/site-packages (from matplotlib->captum) (2.8.2)\n",
      "Requirement already satisfied: kiwisolver>=1.0.1 in /home/srtoner/.local/lib/python3.9/site-packages (from matplotlib->captum) (1.3.2)\n",
      "Requirement already satisfied: setuptools-scm>=4 in /home/srtoner/.local/lib/python3.9/site-packages (from matplotlib->captum) (6.3.2)\n",
      "Requirement already satisfied: pillow>=6.2.0 in /home/srtoner/.local/lib/python3.9/site-packages (from matplotlib->captum) (8.4.0)\n",
      "Requirement already satisfied: fonttools>=4.22.0 in /home/srtoner/.local/lib/python3.9/site-packages (from matplotlib->captum) (4.28.3)\n",
      "Requirement already satisfied: pyparsing>=2.2.1 in /sw/pkgs/arc/python3.9-anaconda/2021.11/lib/python3.9/site-packages (from matplotlib->captum) (3.0.4)\n",
      "Requirement already satisfied: packaging>=20.0 in /home/srtoner/.local/lib/python3.9/site-packages (from matplotlib->captum) (22.0)\n",
      "Requirement already satisfied: cycler>=0.10 in /home/srtoner/.local/lib/python3.9/site-packages (from matplotlib->captum) (0.11.0)\n",
      "Requirement already satisfied: six>=1.5 in /sw/pkgs/arc/python3.9-anaconda/2021.11/lib/python3.9/site-packages (from python-dateutil>=2.7->matplotlib->captum) (1.16.0)\n",
      "Requirement already satisfied: tomli>=1.0.0 in /home/srtoner/.local/lib/python3.9/site-packages (from setuptools-scm>=4->matplotlib->captum) (1.2.2)\n",
      "Installing collected packages: captum\n",
      "Successfully installed captum-0.6.0\n"
     ]
    }
   ],
   "source": [
    "!pip install captum"
   ]
  },
  {
   "cell_type": "code",
   "execution_count": 3,
>>>>>>> 90bbbb701306c73a2774c67a69e766411b85c286
   "id": "b0e84333",
   "metadata": {
    "id": "pujJkh_q8qTi"
   },
   "outputs": [],
   "source": [
    "import numpy as np\n",
    "import pandas as pd\n",
    "import seaborn as sns\n",
    "import matplotlib.pyplot as plt\n",
    "\n",
    "import torch\n",
    "import torch.nn as nn\n",
    "\n",
    "from transformers import AutoTokenizer, AutoModel, AutoModelForSequenceClassification, DataCollatorWithPadding\n",
    "\n",
    "from transformers import TrainingArguments, Trainer\n",
    "from datasets import Dataset\n",
    "from captum.attr import visualization as viz\n",
    "from captum.attr import LayerConductance, LayerIntegratedGradients"
   ]
  },
  {
   "cell_type": "code",
<<<<<<< HEAD
   "execution_count": null,
=======
   "execution_count": 4,
>>>>>>> 90bbbb701306c73a2774c67a69e766411b85c286
   "id": "31ad6302",
   "metadata": {
    "colab": {
     "base_uri": "https://localhost:8080/"
    },
    "id": "iOkFdQoT8w8X",
    "outputId": "aaf80ccc-4f67-4342-f2f1-ba46f3cb2d19"
   },
   "outputs": [],
   "source": [
    "device = torch.device(\"cuda:0\" if torch.cuda.is_available() else \"cpu\")\n",
    "# device = torch.device(\"mps:0\")"
   ]
  },
  {
   "cell_type": "code",
<<<<<<< HEAD
   "execution_count": 448,
=======
   "execution_count": 6,
>>>>>>> 90bbbb701306c73a2774c67a69e766411b85c286
   "id": "afe27727",
   "metadata": {
    "lines_to_next_cell": 2
   },
   "outputs": [
    {
     "name": "stderr",
     "output_type": "stream",
     "text": [
      "WARNING:datasets.builder:Found cached dataset csv (/home/srtoner/.cache/huggingface/datasets/csv/default-a2d56702a5cbff42/0.0.0)\n",
      "WARNING:datasets.builder:Found cached dataset csv (/home/srtoner/.cache/huggingface/datasets/csv/default-8c8c62bd64a02232/0.0.0)\n",
      "WARNING:datasets.builder:Found cached dataset csv (/home/srtoner/.cache/huggingface/datasets/csv/default-1925157a871db86c/0.0.0)\n"
     ]
    },
    {
     "name": "stdout",
     "output_type": "stream",
     "text": [
      "Dataset({\n",
      "    features: ['user_id', 'tweet_id', 'tweet_text', 'country'],\n",
      "    num_rows: 4000\n",
      "})\n"
     ]
    },
    {
     "data": {
      "application/vnd.jupyter.widget-view+json": {
       "model_id": "",
       "version_major": 2,
       "version_minor": 0
      },
      "text/plain": [
       "Filter:   0%|          | 0/4000 [00:00<?, ? examples/s]"
      ]
     },
     "metadata": {},
     "output_type": "display_data"
    }
   ],
   "source": [
    "ds_train = Dataset.from_csv('train.csv')\n",
    "ds_val = Dataset.from_csv('validate.csv')\n",
    "ds_test = Dataset.from_csv('test.csv')\n",
    "print(ds_test)\n",
    "ds_test_viz = ds_test.filter(lambda ex: ex['country'] == 2)\n",
    "\n",
    "ds = {\"train\": ds_train, \"validation\": ds_val, \"test\": ds_test, \"test_viz\": ds_test_viz}"
   ]
  },
  {
   "cell_type": "code",
   "execution_count": 449,
   "id": "08c31875",
   "metadata": {},
   "outputs": [],
   "source": [
    "id2label = {0: \"United States\", 1: \"United Kingdom\", 2: \"Canada\", 3: \"Australia\", 4: \"India\", 5: \"Nigeria\"}\n",
    "label2id = {\"United States\": 0, \"United Kingdom\": 1, \"Canada\": 2, \"Australia\": 3, \"India\": 4, \"Nigeria\": 5}"
   ]
  },
  {
   "cell_type": "code",
   "execution_count": 450,
   "id": "11914f7e",
   "metadata": {
    "colab": {
     "base_uri": "https://localhost:8080/"
    },
    "id": "ZptRohBG9CCK",
    "lines_to_next_cell": 2,
    "outputId": "f70a08b8-275d-400e-b85d-b63b06269f03"
   },
   "outputs": [
    {
     "name": "stderr",
     "output_type": "stream",
     "text": [
      "Loading cached processed dataset at /Users/stephentoner/.cache/huggingface/datasets/csv/default-2db754ff7953f4a8/0.0.0/cache-aef5f7b738325a86.arrow\n",
      "Loading cached processed dataset at /Users/stephentoner/.cache/huggingface/datasets/csv/default-c1d4626ff04165b1/0.0.0/cache-6721748a606b7f77.arrow\n",
      "Loading cached processed dataset at /Users/stephentoner/.cache/huggingface/datasets/csv/default-7083c7f65e06db68/0.0.0/cache-b5cda1ebf04b57b0.arrow\n",
      "                                                  \r"
     ]
    }
   ],
   "source": [
    "model_path = 'twitter_baseline'\n",
    "\n",
    "model = AutoModelForSequenceClassification.from_pretrained(model_path, num_labels=6, id2label=id2label, label2id=label2id)\n",
    "model = model.to(device)\n",
    "model.eval()\n",
    "model.zero_grad()\n",
    "\n",
    "# load tokenizer\n",
    "tokenizer = AutoTokenizer.from_pretrained('Twitter/twhin-bert-base')\n",
    "\n",
    "def preprocess_function(examples):\n",
    "    label = examples[\"country\"] \n",
    "    examples = tokenizer(examples[\"tweet_text\"], truncation=True, padding=\"max_length\", max_length=256, return_tensors='pt')\n",
    "    for key in examples:\n",
    "        examples[key] = examples[key].squeeze(0)\n",
    "    examples[\"label\"] = label\n",
    "    return examples\n",
    "\n",
    "for split in ds:\n",
    "    ds[split] = ds[split].map(preprocess_function, remove_columns=['user_id', 'tweet_id', 'tweet_text', 'country'])\n",
    "    ds[split].set_format('pt')"
   ]
  },
  {
   "cell_type": "code",
   "execution_count": null,
   "id": "cb494d98",
   "metadata": {},
   "outputs": [],
   "source": [
    "ds['test_viz']"
   ]
  },
  {
   "cell_type": "code",
   "execution_count": null,
   "id": "670bc2fc",
   "metadata": {},
   "outputs": [],
   "source": [
    "import evaluate\n",
    "\n",
    "accuracy = evaluate.load(\"accuracy\")\n",
    "f1_metric = evaluate.load(\"f1\")\n",
    "\n",
    "def compute_metrics(eval_pred):\n",
    "    predictions, labels = eval_pred\n",
    "    predictions = np.argmax(predictions, axis=1)\n",
    "    return {\"accuracy\": accuracy.compute(predictions=predictions, references=labels), \"f1\":f1_metric.compute(predictions=predictions, references=labels, average=\"weighted\")}"
   ]
  },
  {
   "cell_type": "code",
   "execution_count": null,
   "id": "8181cd7d",
   "metadata": {},
   "outputs": [],
   "source": [
    "import torch\n",
    "class TwitterTrainer(Trainer):\n",
    "    def compute_loss(self, model, inputs, return_outputs=False):\n",
    "        labels = inputs.get(\"labels\")\n",
    "        # print (\"inputs: \", inputs)\n",
    "        outputs = model(**inputs)\n",
    "        logits = outputs.get(\"logits\")\n",
    "        loss = torch.nn.functional.cross_entropy(logits, labels)\n",
    "        return (loss, outputs) if return_outputs else loss"
   ]
  },
  {
   "cell_type": "code",
   "execution_count": null,
   "id": "6e1cc446",
   "metadata": {},
   "outputs": [],
   "source": [
    "from transformers import TrainingArguments\n",
    "from transformers import Trainer\n",
    "\n",
    "training_args = TrainingArguments(\n",
    "    output_dir=\"my_awesome_model\",\n",
    "    learning_rate=2e-5,\n",
    "    \n",
    "    per_device_train_batch_size=16,\n",
    "    per_device_eval_batch_size=16,\n",
    "    num_train_epochs=2,\n",
    "    weight_decay=0.01,\n",
    "    evaluation_strategy=\"epoch\",\n",
    "    save_strategy=\"epoch\",\n",
    "    load_best_model_at_end=True,\n",
    ")\n",
    "\n",
    "trainer = TwitterTrainer(\n",
    "    model=model,\n",
    "    args=training_args,\n",
    "    train_dataset=ds[\"train\"],\n",
    "    eval_dataset=ds[\"validation\"],\n",
    "    compute_metrics=compute_metrics\n",
    ")\n"
   ]
  },
  {
   "cell_type": "code",
   "execution_count": 528,
   "id": "5a4c53a6",
   "metadata": {},
   "outputs": [
    {
     "name": "stderr",
     "output_type": "stream",
     "text": [
      "100%|██████████| 63/63 [05:43<00:00,  5.45s/it]\n"
     ]
    }
   ],
   "source": [
    "test_pred = trainer.predict(ds['test'])"
   ]
  },
  {
   "cell_type": "code",
   "execution_count": 537,
   "id": "6fdbae12",
   "metadata": {},
   "outputs": [
    {
     "data": {
      "text/plain": [
       "array([  8, 353, 652, 750, 483, 733])"
      ]
     },
     "execution_count": 537,
     "metadata": {},
     "output_type": "execute_result"
    }
   ],
   "source": [
    "np.argmax(test_pred.predictions,0)"
   ]
  },
  {
   "cell_type": "code",
   "execution_count": 547,
   "id": "74a9e6d1",
   "metadata": {},
   "outputs": [
    {
     "data": {
      "text/plain": [
       "{'input_ids': tensor([    0,  1374, 68722,   304, 95528, 32635, 12915,     4,   136,    87,\n",
       "         12319,   450,     4,  1284,    87,    26,    39,  9077, 15700,  7639,\n",
       "          1221,  7413,  6863,  3917,    47,   935, 87939, 33662,    38,     2,\n",
       "             1,     1,     1,     1,     1,     1,     1,     1,     1,     1,\n",
       "             1,     1,     1,     1,     1,     1,     1,     1,     1,     1,\n",
       "             1,     1,     1,     1,     1,     1,     1,     1,     1,     1,\n",
       "             1,     1,     1,     1,     1,     1,     1,     1,     1,     1,\n",
       "             1,     1,     1,     1,     1,     1,     1,     1,     1,     1,\n",
       "             1,     1,     1,     1,     1,     1,     1,     1,     1,     1,\n",
       "             1,     1,     1,     1,     1,     1,     1,     1,     1,     1,\n",
       "             1,     1,     1,     1,     1,     1,     1,     1,     1,     1,\n",
       "             1,     1,     1,     1,     1,     1,     1,     1,     1,     1,\n",
       "             1,     1,     1,     1,     1,     1,     1,     1,     1,     1,\n",
       "             1,     1,     1,     1,     1,     1,     1,     1,     1,     1,\n",
       "             1,     1,     1,     1,     1,     1,     1,     1,     1,     1,\n",
       "             1,     1,     1,     1,     1,     1,     1,     1,     1,     1,\n",
       "             1,     1,     1,     1,     1,     1,     1,     1,     1,     1,\n",
       "             1,     1,     1,     1,     1,     1,     1,     1,     1,     1,\n",
       "             1,     1,     1,     1,     1,     1,     1,     1,     1,     1,\n",
       "             1,     1,     1,     1,     1,     1,     1,     1,     1,     1,\n",
       "             1,     1,     1,     1,     1,     1,     1,     1,     1,     1,\n",
       "             1,     1,     1,     1,     1,     1,     1,     1,     1,     1,\n",
       "             1,     1,     1,     1,     1,     1,     1,     1,     1,     1,\n",
       "             1,     1,     1,     1,     1,     1,     1,     1,     1,     1,\n",
       "             1,     1,     1,     1,     1,     1,     1,     1,     1,     1,\n",
       "             1,     1,     1,     1,     1,     1]),\n",
       " 'attention_mask': tensor([1, 1, 1, 1, 1, 1, 1, 1, 1, 1, 1, 1, 1, 1, 1, 1, 1, 1, 1, 1, 1, 1, 1, 1,\n",
       "         1, 1, 1, 1, 1, 1, 0, 0, 0, 0, 0, 0, 0, 0, 0, 0, 0, 0, 0, 0, 0, 0, 0, 0,\n",
       "         0, 0, 0, 0, 0, 0, 0, 0, 0, 0, 0, 0, 0, 0, 0, 0, 0, 0, 0, 0, 0, 0, 0, 0,\n",
       "         0, 0, 0, 0, 0, 0, 0, 0, 0, 0, 0, 0, 0, 0, 0, 0, 0, 0, 0, 0, 0, 0, 0, 0,\n",
       "         0, 0, 0, 0, 0, 0, 0, 0, 0, 0, 0, 0, 0, 0, 0, 0, 0, 0, 0, 0, 0, 0, 0, 0,\n",
       "         0, 0, 0, 0, 0, 0, 0, 0, 0, 0, 0, 0, 0, 0, 0, 0, 0, 0, 0, 0, 0, 0, 0, 0,\n",
       "         0, 0, 0, 0, 0, 0, 0, 0, 0, 0, 0, 0, 0, 0, 0, 0, 0, 0, 0, 0, 0, 0, 0, 0,\n",
       "         0, 0, 0, 0, 0, 0, 0, 0, 0, 0, 0, 0, 0, 0, 0, 0, 0, 0, 0, 0, 0, 0, 0, 0,\n",
       "         0, 0, 0, 0, 0, 0, 0, 0, 0, 0, 0, 0, 0, 0, 0, 0, 0, 0, 0, 0, 0, 0, 0, 0,\n",
       "         0, 0, 0, 0, 0, 0, 0, 0, 0, 0, 0, 0, 0, 0, 0, 0, 0, 0, 0, 0, 0, 0, 0, 0,\n",
       "         0, 0, 0, 0, 0, 0, 0, 0, 0, 0, 0, 0, 0, 0, 0, 0]),\n",
       " 'label': tensor(0)}"
      ]
     },
     "execution_count": 547,
     "metadata": {},
     "output_type": "execute_result"
    }
   ],
   "source": [
    "ds['test'][0]"
   ]
  },
  {
   "cell_type": "code",
   "execution_count": 548,
   "id": "f916cd92",
   "metadata": {},
   "outputs": [
    {
     "name": "stdout",
     "output_type": "stream",
     "text": [
      "8\n",
      "353\n",
      "652\n",
      "750\n",
      "483\n",
      "733\n"
     ]
    }
   ],
   "source": [
    "highest_pred=np.argmax(test_pred.predictions,0)\n",
    "\n",
    "plot_viz = {}\n",
    "\n",
    "for idx, elt in enumerate(highest_pred):\n",
    "    plot_viz[idx] = ds['test'][int(elt)]"
   ]
  },
  {
   "cell_type": "code",
   "execution_count": 451,
   "id": "51fb930e",
   "metadata": {},
   "outputs": [],
   "source": [
    "def forward_func(inputs, position = 0):\n",
    "    \"\"\"\n",
    "        Wrapper around prediction method of pipeline\n",
    "    \"\"\"\n",
    "    pred = model(inputs, attention_mask=torch.ones_like(inputs).to(device))\n",
    "    return pred[position]\n",
    "    \n",
    "def visualize(inputs: list, attributes: list):\n",
    "    \"\"\"\n",
    "        Visualization method.\n",
    "        Takes list of inputs and correspondent attributs for them to visualize in a barplot\n",
    "    \"\"\"\n",
    "    attr_sum = attributes.sum(-1) \n",
    "    \n",
    "    attr = attr_sum / torch.norm(attr_sum)\n",
    "    \n",
    "    a = pd.Series(attr.numpy()[0], \n",
    "                        index = tokenizer.convert_ids_to_tokens(inputs.detach().numpy()[0]))\n",
    "    \n",
    "    plt.show(a.plot.bar(figsize=(10,5)))\n",
    "                    \n",
    "def explain(text: str):\n",
    "    \"\"\"\n",
    "        Main entry method. Passes text through series of transformations and through the model. \n",
    "        Calls visualization method.\n",
    "    \"\"\"\n",
    "    prediction = trainer.predict(text)\n",
    "    inputs = generate_inputs(text)\n",
    "    baseline = generate_baseline(sequence_len = inputs.shape[1])\n",
    "    \n",
    "    lig = LayerIntegratedGradients(forward_func, getattr(model, 'Twitter/twhin-bert-base').embeddings)\n",
    "    \n",
    "    attributes, delta = lig.attribute(inputs=inputs,\n",
    "                                baselines=baseline,\n",
    "                                target = model.config.label2id[prediction[0]['label']], \n",
    "                                return_convergence_delta = True)\n",
    "    \n",
    "    visualize(inputs, attributes, prediction)\n",
    "    \n",
    "def generate_inputs(text: str):\n",
    "    \"\"\"\n",
    "        Convenience method for generation of input ids as list of torch tensors\n",
    "    \"\"\"\n",
    "    return tokenizer.encode(text, truncation=True, max_length=256, return_tensors='pt').to(device)\n",
    "\n",
    "def generate_baseline(sequence_len: int):\n",
    "    \"\"\"\n",
    "        Convenience method for generation of baseline vector as list of torch tensors\n",
    "    \"\"\"        \n",
    "    return torch.tensor([tokenizer.cls_token_id] + [tokenizer.pad_token_id] * (sequence_len - 2) + [tokenizer.sep_token_id], device = device).unsqueeze(0)\n",
    "\n",
    "\n"
   ]
  },
  {
   "cell_type": "code",
   "execution_count": 452,
   "id": "0b4a17b5",
   "metadata": {},
   "outputs": [],
   "source": [
    "factory = iter(ds['test_viz'])\n",
    "text = iter(ds_test_viz)"
   ]
  },
  {
   "cell_type": "code",
   "execution_count": null,
   "id": "debb049c",
   "metadata": {},
   "outputs": [],
   "source": []
  },
  {
   "cell_type": "code",
   "execution_count": 524,
   "id": "c69b3ee2",
   "metadata": {},
   "outputs": [
    {
     "name": "stdout",
     "output_type": "stream",
     "text": [
      "@egoc11 @umutyun1 @xarjef Adam Boşnak, tamamen genetik mevzu\n"
     ]
    },
    {
     "name": "stderr",
     "output_type": "stream",
     "text": [
      "100%|██████████| 1/1 [00:00<00:00, 195.85it/s]\n"
     ]
    },
    {
     "name": "stdout",
     "output_type": "stream",
     "text": [
      "Canada\n"
     ]
    },
    {
     "data": {
      "image/png": "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",
      "text/plain": [
       "<Figure size 1000x500 with 1 Axes>"
      ]
     },
     "metadata": {},
     "output_type": "display_data"
    }
   ],
   "source": [
    "example = next(factory)\n",
    "example_text = next(text)\n",
    "print(example_text['tweet_text'])\n",
    "\n",
    "\n",
    "prediction = trainer.predict([example])\n",
    "# prediction = trainer.predict([example])\n",
    "\n",
    "label = model.config.id2label[prediction.label_ids[0]]\n",
    "print(label)\n",
    "\n",
    "inputs = generate_inputs(example_text['tweet_text'])\n",
    "baseline = generate_baseline(sequence_len = inputs.shape[1])\n",
    "lig = LayerIntegratedGradients(forward_func, model.bert.embeddings)\n",
    "attributes, delta = lig.attribute(inputs=inputs,\n",
    "                            baselines=baseline,\n",
    "                            target = model.config.label2id[model.config.id2label[prediction.label_ids[0]]], \n",
    "                            return_convergence_delta = True)\n",
    "visualize(inputs, attributes)\n",
    "\n",
    "# Second from test set"
   ]
  },
  {
   "cell_type": "code",
   "execution_count": 521,
   "id": "e67948c6",
   "metadata": {},
   "outputs": [
    {
     "name": "stderr",
     "output_type": "stream",
     "text": [
      "/var/folders/b1/vw0sn5w90nnccbfn7bskv0jm0000gn/T/ipykernel_23231/3308504672.py:6: UserWarning: Implicit dimension choice for softmax has been deprecated. Change the call to include dim=X as an argument.\n",
      "  softmax(torch.Tensor(prediction.predictions))\n"
     ]
    },
    {
     "data": {
      "text/plain": [
       "tensor([[0.9115, 0.0395, 0.0252, 0.0118, 0.0051, 0.0069]])"
      ]
     },
     "execution_count": 521,
     "metadata": {},
     "output_type": "execute_result"
    }
   ],
   "source": [
    "attr = attributes.sum(dim=2).squeeze(0)\n",
    "attr = attr / torch.norm(attr)\n",
    "attr = attr.cpu().detach().numpy()\n",
    "softmax = nn.Softmax()\n",
    "\n",
    "softmax(torch.Tensor(prediction.predictions))"
   ]
  },
  {
   "cell_type": "code",
   "execution_count": 522,
   "id": "a008dddc",
   "metadata": {
    "lines_to_next_cell": 2
   },
   "outputs": [
    {
     "name": "stderr",
     "output_type": "stream",
     "text": [
      "/var/folders/b1/vw0sn5w90nnccbfn7bskv0jm0000gn/T/ipykernel_23231/2656165842.py:1: UserWarning: Implicit dimension choice for softmax has been deprecated. Change the call to include dim=X as an argument.\n",
      "  class_ =  np.argmax(softmax(torch.Tensor(prediction.predictions)).numpy()[0]) # True Class\n",
      "/var/folders/b1/vw0sn5w90nnccbfn7bskv0jm0000gn/T/ipykernel_23231/2656165842.py:4: UserWarning: Implicit dimension choice for softmax has been deprecated. Change the call to include dim=X as an argument.\n",
      "  np.max(softmax(torch.Tensor(prediction.predictions)).numpy()[0]),\n"
     ]
    }
   ],
   "source": [
    "class_ =  np.argmax(softmax(torch.Tensor(prediction.predictions)).numpy()[0]) # True Class\n",
    "\n",
    "rec = viz.VisualizationDataRecord(attr, \n",
    "                            np.max(softmax(torch.Tensor(prediction.predictions)).numpy()[0]),\n",
    "                            \n",
    "                            id2label[class_],\n",
    "                            id2label[model.config.label2id[model.config.id2label[prediction.label_ids[0]]]], # Predicted Label\n",
    "                            id2label[class_], # Attribute class\n",
    "                            attributes.sum(), # attribute score\n",
    "                            tokenizer.convert_ids_to_tokens(inputs.detach().numpy()[0]), # Raw inputs\n",
    "                            delta)"
   ]
  },
  {
   "cell_type": "code",
   "execution_count": 523,
   "id": "ed9175d6",
   "metadata": {},
   "outputs": [
    {
     "data": {
      "text/html": [
       "<table width: 100%><div style=\"border-top: 1px solid; margin-top: 5px;             padding-top: 5px; display: inline-block\"><b>Legend: </b><span style=\"display: inline-block; width: 10px; height: 10px;                 border: 1px solid; background-color:                 hsl(0, 75%, 60%)\"></span> Negative  <span style=\"display: inline-block; width: 10px; height: 10px;                 border: 1px solid; background-color:                 hsl(0, 75%, 100%)\"></span> Neutral  <span style=\"display: inline-block; width: 10px; height: 10px;                 border: 1px solid; background-color:                 hsl(120, 75%, 50%)\"></span> Positive  </div><tr><th>True Label</th><th>Predicted Label</th><th>Attribution Label</th><th>Attribution Score</th><th>Word Importance</th><tr><td><text style=\"padding-right:2em\"><b>Canada</b></text></td><td><text style=\"padding-right:2em\"><b>United States (0.91)</b></text></td><td><text style=\"padding-right:2em\"><b>United States</b></text></td><td><text style=\"padding-right:2em\"><b>0.39</b></text></td><td><mark style=\"background-color: hsl(0, 75%, 100%); opacity:1.0;                     line-height:1.75\"><font color=\"black\"> #s                    </font></mark><mark style=\"background-color: hsl(120, 75%, 97%); opacity:1.0;                     line-height:1.75\"><font color=\"black\"> ▁                    </font></mark><mark style=\"background-color: hsl(0, 75%, 98%); opacity:1.0;                     line-height:1.75\"><font color=\"black\"> Qué                    </font></mark><mark style=\"background-color: hsl(120, 75%, 96%); opacity:1.0;                     line-height:1.75\"><font color=\"black\"> ▁es                    </font></mark><mark style=\"background-color: hsl(120, 75%, 93%); opacity:1.0;                     line-height:1.75\"><font color=\"black\"> ▁lo                    </font></mark><mark style=\"background-color: hsl(120, 75%, 99%); opacity:1.0;                     line-height:1.75\"><font color=\"black\"> ▁más                    </font></mark><mark style=\"background-color: hsl(0, 75%, 100%); opacity:1.0;                     line-height:1.75\"><font color=\"black\"> ▁est                    </font></mark><mark style=\"background-color: hsl(0, 75%, 99%); opacity:1.0;                     line-height:1.75\"><font color=\"black\"> res                    </font></mark><mark style=\"background-color: hsl(0, 75%, 99%); opacity:1.0;                     line-height:1.75\"><font color=\"black\"> ante                    </font></mark><mark style=\"background-color: hsl(0, 75%, 100%); opacity:1.0;                     line-height:1.75\"><font color=\"black\"> ▁para                    </font></mark><mark style=\"background-color: hsl(120, 75%, 54%); opacity:1.0;                     line-height:1.75\"><font color=\"black\"> ▁tí                    </font></mark><mark style=\"background-color: hsl(0, 75%, 98%); opacity:1.0;                     line-height:1.75\"><font color=\"black\"> ▁en                    </font></mark><mark style=\"background-color: hsl(0, 75%, 96%); opacity:1.0;                     line-height:1.75\"><font color=\"black\"> ▁estos                    </font></mark><mark style=\"background-color: hsl(0, 75%, 99%); opacity:1.0;                     line-height:1.75\"><font color=\"black\"> ▁momentos                    </font></mark><mark style=\"background-color: hsl(120, 75%, 98%); opacity:1.0;                     line-height:1.75\"><font color=\"black\"> ?                    </font></mark><mark style=\"background-color: hsl(0, 75%, 94%); opacity:1.0;                     line-height:1.75\"><font color=\"black\"> ▁Sali                    </font></mark><mark style=\"background-color: hsl(0, 75%, 98%); opacity:1.0;                     line-height:1.75\"><font color=\"black\"> r                    </font></mark><mark style=\"background-color: hsl(120, 75%, 99%); opacity:1.0;                     line-height:1.75\"><font color=\"black\"> ▁y                    </font></mark><mark style=\"background-color: hsl(0, 75%, 99%); opacity:1.0;                     line-height:1.75\"><font color=\"black\"> ▁tener                    </font></mark><mark style=\"background-color: hsl(0, 75%, 100%); opacity:1.0;                     line-height:1.75\"><font color=\"black\"> ▁que                    </font></mark><mark style=\"background-color: hsl(0, 75%, 99%); opacity:1.0;                     line-height:1.75\"><font color=\"black\"> ▁hablar                    </font></mark><mark style=\"background-color: hsl(120, 75%, 97%); opacity:1.0;                     line-height:1.75\"><font color=\"black\"> ▁                    </font></mark><mark style=\"background-color: hsl(0, 75%, 98%); opacity:1.0;                     line-height:1.75\"><font color=\"black\"> 😢                    </font></mark><mark style=\"background-color: hsl(120, 75%, 99%); opacity:1.0;                     line-height:1.75\"><font color=\"black\"> ▁trata                    </font></mark><mark style=\"background-color: hsl(0, 75%, 99%); opacity:1.0;                     line-height:1.75\"><font color=\"black\"> ndo                    </font></mark><mark style=\"background-color: hsl(120, 75%, 99%); opacity:1.0;                     line-height:1.75\"><font color=\"black\"> ▁de                    </font></mark><mark style=\"background-color: hsl(120, 75%, 100%); opacity:1.0;                     line-height:1.75\"><font color=\"black\"> ▁no                    </font></mark><mark style=\"background-color: hsl(120, 75%, 100%); opacity:1.0;                     line-height:1.75\"><font color=\"black\"> ▁parecer                    </font></mark><mark style=\"background-color: hsl(0, 75%, 97%); opacity:1.0;                     line-height:1.75\"><font color=\"black\"> ▁estu                    </font></mark><mark style=\"background-color: hsl(0, 75%, 96%); opacity:1.0;                     line-height:1.75\"><font color=\"black\"> pida                    </font></mark><mark style=\"background-color: hsl(120, 75%, 98%); opacity:1.0;                     line-height:1.75\"><font color=\"black\"> .                    </font></mark><mark style=\"background-color: hsl(0, 75%, 100%); opacity:1.0;                     line-height:1.75\"><font color=\"black\"> #/s                    </font></mark></td><tr></table>"
      ],
      "text/plain": [
       "<IPython.core.display.HTML object>"
      ]
     },
     "metadata": {},
     "output_type": "display_data"
    },
    {
     "data": {
      "text/html": [
       "<table width: 100%><div style=\"border-top: 1px solid; margin-top: 5px;             padding-top: 5px; display: inline-block\"><b>Legend: </b><span style=\"display: inline-block; width: 10px; height: 10px;                 border: 1px solid; background-color:                 hsl(0, 75%, 60%)\"></span> Negative  <span style=\"display: inline-block; width: 10px; height: 10px;                 border: 1px solid; background-color:                 hsl(0, 75%, 100%)\"></span> Neutral  <span style=\"display: inline-block; width: 10px; height: 10px;                 border: 1px solid; background-color:                 hsl(120, 75%, 50%)\"></span> Positive  </div><tr><th>True Label</th><th>Predicted Label</th><th>Attribution Label</th><th>Attribution Score</th><th>Word Importance</th><tr><td><text style=\"padding-right:2em\"><b>Canada</b></text></td><td><text style=\"padding-right:2em\"><b>United States (0.91)</b></text></td><td><text style=\"padding-right:2em\"><b>United States</b></text></td><td><text style=\"padding-right:2em\"><b>0.39</b></text></td><td><mark style=\"background-color: hsl(0, 75%, 100%); opacity:1.0;                     line-height:1.75\"><font color=\"black\"> #s                    </font></mark><mark style=\"background-color: hsl(120, 75%, 97%); opacity:1.0;                     line-height:1.75\"><font color=\"black\"> ▁                    </font></mark><mark style=\"background-color: hsl(0, 75%, 98%); opacity:1.0;                     line-height:1.75\"><font color=\"black\"> Qué                    </font></mark><mark style=\"background-color: hsl(120, 75%, 96%); opacity:1.0;                     line-height:1.75\"><font color=\"black\"> ▁es                    </font></mark><mark style=\"background-color: hsl(120, 75%, 93%); opacity:1.0;                     line-height:1.75\"><font color=\"black\"> ▁lo                    </font></mark><mark style=\"background-color: hsl(120, 75%, 99%); opacity:1.0;                     line-height:1.75\"><font color=\"black\"> ▁más                    </font></mark><mark style=\"background-color: hsl(0, 75%, 100%); opacity:1.0;                     line-height:1.75\"><font color=\"black\"> ▁est                    </font></mark><mark style=\"background-color: hsl(0, 75%, 99%); opacity:1.0;                     line-height:1.75\"><font color=\"black\"> res                    </font></mark><mark style=\"background-color: hsl(0, 75%, 99%); opacity:1.0;                     line-height:1.75\"><font color=\"black\"> ante                    </font></mark><mark style=\"background-color: hsl(0, 75%, 100%); opacity:1.0;                     line-height:1.75\"><font color=\"black\"> ▁para                    </font></mark><mark style=\"background-color: hsl(120, 75%, 54%); opacity:1.0;                     line-height:1.75\"><font color=\"black\"> ▁tí                    </font></mark><mark style=\"background-color: hsl(0, 75%, 98%); opacity:1.0;                     line-height:1.75\"><font color=\"black\"> ▁en                    </font></mark><mark style=\"background-color: hsl(0, 75%, 96%); opacity:1.0;                     line-height:1.75\"><font color=\"black\"> ▁estos                    </font></mark><mark style=\"background-color: hsl(0, 75%, 99%); opacity:1.0;                     line-height:1.75\"><font color=\"black\"> ▁momentos                    </font></mark><mark style=\"background-color: hsl(120, 75%, 98%); opacity:1.0;                     line-height:1.75\"><font color=\"black\"> ?                    </font></mark><mark style=\"background-color: hsl(0, 75%, 94%); opacity:1.0;                     line-height:1.75\"><font color=\"black\"> ▁Sali                    </font></mark><mark style=\"background-color: hsl(0, 75%, 98%); opacity:1.0;                     line-height:1.75\"><font color=\"black\"> r                    </font></mark><mark style=\"background-color: hsl(120, 75%, 99%); opacity:1.0;                     line-height:1.75\"><font color=\"black\"> ▁y                    </font></mark><mark style=\"background-color: hsl(0, 75%, 99%); opacity:1.0;                     line-height:1.75\"><font color=\"black\"> ▁tener                    </font></mark><mark style=\"background-color: hsl(0, 75%, 100%); opacity:1.0;                     line-height:1.75\"><font color=\"black\"> ▁que                    </font></mark><mark style=\"background-color: hsl(0, 75%, 99%); opacity:1.0;                     line-height:1.75\"><font color=\"black\"> ▁hablar                    </font></mark><mark style=\"background-color: hsl(120, 75%, 97%); opacity:1.0;                     line-height:1.75\"><font color=\"black\"> ▁                    </font></mark><mark style=\"background-color: hsl(0, 75%, 98%); opacity:1.0;                     line-height:1.75\"><font color=\"black\"> 😢                    </font></mark><mark style=\"background-color: hsl(120, 75%, 99%); opacity:1.0;                     line-height:1.75\"><font color=\"black\"> ▁trata                    </font></mark><mark style=\"background-color: hsl(0, 75%, 99%); opacity:1.0;                     line-height:1.75\"><font color=\"black\"> ndo                    </font></mark><mark style=\"background-color: hsl(120, 75%, 99%); opacity:1.0;                     line-height:1.75\"><font color=\"black\"> ▁de                    </font></mark><mark style=\"background-color: hsl(120, 75%, 100%); opacity:1.0;                     line-height:1.75\"><font color=\"black\"> ▁no                    </font></mark><mark style=\"background-color: hsl(120, 75%, 100%); opacity:1.0;                     line-height:1.75\"><font color=\"black\"> ▁parecer                    </font></mark><mark style=\"background-color: hsl(0, 75%, 97%); opacity:1.0;                     line-height:1.75\"><font color=\"black\"> ▁estu                    </font></mark><mark style=\"background-color: hsl(0, 75%, 96%); opacity:1.0;                     line-height:1.75\"><font color=\"black\"> pida                    </font></mark><mark style=\"background-color: hsl(120, 75%, 98%); opacity:1.0;                     line-height:1.75\"><font color=\"black\"> .                    </font></mark><mark style=\"background-color: hsl(0, 75%, 100%); opacity:1.0;                     line-height:1.75\"><font color=\"black\"> #/s                    </font></mark></td><tr></table>"
      ],
      "text/plain": [
       "<IPython.core.display.HTML object>"
      ]
     },
     "execution_count": 523,
     "metadata": {},
     "output_type": "execute_result"
    }
   ],
   "source": [
    "viz.visualize_text([rec])"
   ]
  }
 ],
 "metadata": {
  "kernelspec": {
   "display_name": "Python 3 (ipykernel)",
   "language": "python",
   "name": "python3"
  },
  "language_info": {
   "codemirror_mode": {
    "name": "ipython",
    "version": 3
   },
   "file_extension": ".py",
   "mimetype": "text/x-python",
   "name": "python",
   "nbconvert_exporter": "python",
   "pygments_lexer": "ipython3",
   "version": "3.9.7"
  },
  "vscode": {
   "interpreter": {
    "hash": "ad2bdc8ecc057115af97d19610ffacc2b4e99fae6737bb82f5d7fb13d2f2c186"
   }
  }
 },
 "nbformat": 4,
 "nbformat_minor": 5
}
