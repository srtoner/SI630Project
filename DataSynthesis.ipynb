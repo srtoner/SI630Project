{
 "cells": [
  {
   "cell_type": "code",
   "execution_count": 3,
   "metadata": {},
   "outputs": [],
   "source": [
    "import requests\n",
    "import os\n",
    "import json\n",
    "import pandas as pd\n",
    "import numpy as np\n",
    "import pickle as pkl\n",
    "# import TwitterUtils as TU\n",
    "import seaborn as sns\n",
    "import re\n",
    "\n",
    "# import spacy\n",
    "# import spacy_langdetect as sld"
   ]
  },
  {
   "cell_type": "code",
   "execution_count": 9,
   "metadata": {},
   "outputs": [
    {
     "name": "stdout",
     "output_type": "stream",
     "text": [
      "Defaulting to user installation because normal site-packages is not writeable\n",
      "Collecting tweepy\n",
      "  Downloading tweepy-4.13.0-py3-none-any.whl (102 kB)\n",
      "\u001b[K     |████████████████████████████████| 102 kB 18.4 MB/s eta 0:00:01\n",
      "\u001b[?25hRequirement already satisfied: requests-oauthlib<2,>=1.2.0 in /home/srtoner/.local/lib/python3.9/site-packages (from tweepy) (1.3.0)\n",
      "Collecting oauthlib<4,>=3.2.0\n",
      "  Using cached oauthlib-3.2.2-py3-none-any.whl (151 kB)\n",
      "Collecting requests<3,>=2.27.0\n",
      "  Using cached requests-2.28.2-py3-none-any.whl (62 kB)\n",
      "Requirement already satisfied: idna<4,>=2.5 in /home/srtoner/.local/lib/python3.9/site-packages (from requests<3,>=2.27.0->tweepy) (3.3)\n",
      "Requirement already satisfied: urllib3<1.27,>=1.21.1 in /home/srtoner/.local/lib/python3.9/site-packages (from requests<3,>=2.27.0->tweepy) (1.26.7)\n",
      "Requirement already satisfied: certifi>=2017.4.17 in /home/srtoner/.local/lib/python3.9/site-packages (from requests<3,>=2.27.0->tweepy) (2021.10.8)\n",
      "Requirement already satisfied: charset-normalizer<4,>=2 in /home/srtoner/.local/lib/python3.9/site-packages (from requests<3,>=2.27.0->tweepy) (2.0.9)\n",
      "Installing collected packages: requests, oauthlib, tweepy\n",
      "  Attempting uninstall: requests\n",
      "    Found existing installation: requests 2.26.0\n",
      "    Uninstalling requests-2.26.0:\n",
      "      Successfully uninstalled requests-2.26.0\n",
      "  Attempting uninstall: oauthlib\n",
      "    Found existing installation: oauthlib 3.1.1\n",
      "    Uninstalling oauthlib-3.1.1:\n",
      "      Successfully uninstalled oauthlib-3.1.1\n",
      "\u001b[31mERROR: pip's dependency resolver does not currently take into account all the packages that are installed. This behaviour is the source of the following dependency conflicts.\n",
      "conda-repo-cli 1.0.4 requires pathlib, which is not installed.\n",
      "anaconda-project 0.10.1 requires ruamel-yaml, which is not installed.\u001b[0m\n",
      "Successfully installed oauthlib-3.2.2 requests-2.28.2 tweepy-4.13.0\n"
     ]
    }
   ],
   "source": [
    "!pip install tweepy"
   ]
  },
  {
   "cell_type": "markdown",
   "metadata": {},
   "source": [
    "## Combining Data\n",
    "\n",
    "The `GetPlaces.py`, `GetTweets.py`, and `SampleUser.py` files have generated the following output files:\n",
    "* users.json : contains all the user specific data from the 51,000 sampled users\n",
    "* places.pkl : metadata related to all twitter places in the user sample\n",
    "* tweets.pkl : retrieved 100 tweets from each user"
   ]
  },
  {
   "cell_type": "code",
   "execution_count": 6,
   "metadata": {},
   "outputs": [],
   "source": [
    "URL_regex = 'https?:\\/\\/(www\\.)?[-a-zA-Z0-9@:%._\\+~#=]{1,256}\\.[a-zA-Z0-9()]{1,6}\\b([-a-zA-Z0-9()@:%_\\+.~#?&\\/\\/=]*)'\n",
    "twitter_username_re = '(?<=^|(?<=[^a-zA-Z0-9-_\\.]))@([A-Za-z]+[A-Za-z0-9-_]+)'\n",
    "twitter_username_re = r\"((^|[^@\\w])@(\\w{1,15})\\b)*\""
   ]
  },
  {
   "cell_type": "code",
   "execution_count": 10,
   "metadata": {},
   "outputs": [],
   "source": [
    "with open(\"places.pkl\", \"rb\") as file: # Unique Places\n",
    "    places = pkl.load(file)\n",
    "\n",
    "with open('tweets.pkl', 'rb') as file: # Rename to Tweets, user_id, place_id\n",
    "    data = pkl.load(file)\n",
    "\n",
    "with open('users.json', 'r') as file: # Actual data for user accounts\n",
    "    user_json = file.read()\n",
    "\n",
    "test = '{\"total\": [' + user_json.replace(\"}{\", \"},{\") + \"]}\"\n",
    "user_data = json.loads(test)\n",
    "users = [u['data'] for u in user_data[\"total\"]]\n",
    "flat_list = [user_id for user in users for user_id in user]\n",
    "\n",
    "users_df = pd.DataFrame(flat_list).rename(columns = {'name' : 'user_name_field'})"
   ]
  },
  {
   "cell_type": "code",
   "execution_count": 11,
   "metadata": {},
   "outputs": [],
   "source": [
    "places_unpacked = [item  for item in places.values()]\n",
    "def unpack_place(place):\n",
    "    return (place.id, place.name, place.full_name, place.country, place.country_code, place.place_type, place.centroid[0], place.centroid[1])\n",
    "\n",
    "unpacked_places = [unpack_place(place) for place in places_unpacked]\n",
    "place_df = pd.DataFrame(unpacked_places, columns = (\"id\", \"name\", \"full_name\", \"country\", \"country_code\", \"type\", \"lat\", \"lon\"))"
   ]
  },
  {
   "cell_type": "code",
   "execution_count": 12,
   "metadata": {},
   "outputs": [
    {
     "data": {
      "text/html": [
       "<div>\n",
       "<style scoped>\n",
       "    .dataframe tbody tr th:only-of-type {\n",
       "        vertical-align: middle;\n",
       "    }\n",
       "\n",
       "    .dataframe tbody tr th {\n",
       "        vertical-align: top;\n",
       "    }\n",
       "\n",
       "    .dataframe thead th {\n",
       "        text-align: right;\n",
       "    }\n",
       "</style>\n",
       "<table border=\"1\" class=\"dataframe\">\n",
       "  <thead>\n",
       "    <tr style=\"text-align: right;\">\n",
       "      <th></th>\n",
       "      <th>id</th>\n",
       "      <th>name</th>\n",
       "      <th>full_name</th>\n",
       "      <th>country</th>\n",
       "      <th>country_code</th>\n",
       "      <th>type</th>\n",
       "      <th>lat</th>\n",
       "      <th>lon</th>\n",
       "    </tr>\n",
       "  </thead>\n",
       "  <tbody>\n",
       "    <tr>\n",
       "      <th>0</th>\n",
       "      <td>67b98f17fdcf20be</td>\n",
       "      <td>Boston</td>\n",
       "      <td>Boston, MA</td>\n",
       "      <td>United States</td>\n",
       "      <td>US</td>\n",
       "      <td>city</td>\n",
       "      <td>-71.088478</td>\n",
       "      <td>42.311398</td>\n",
       "    </tr>\n",
       "    <tr>\n",
       "      <th>1</th>\n",
       "      <td>5c62ffb0f0f3479d</td>\n",
       "      <td>Phoenix</td>\n",
       "      <td>Phoenix, AZ</td>\n",
       "      <td>United States</td>\n",
       "      <td>US</td>\n",
       "      <td>city</td>\n",
       "      <td>-112.073523</td>\n",
       "      <td>33.552088</td>\n",
       "    </tr>\n",
       "    <tr>\n",
       "      <th>2</th>\n",
       "      <td>8a927a7056322151</td>\n",
       "      <td>Botswana</td>\n",
       "      <td>Botswana</td>\n",
       "      <td>Botswana</td>\n",
       "      <td>BW</td>\n",
       "      <td>country</td>\n",
       "      <td>24.481179</td>\n",
       "      <td>-22.342707</td>\n",
       "    </tr>\n",
       "    <tr>\n",
       "      <th>3</th>\n",
       "      <td>06168d1feda43857</td>\n",
       "      <td>South East</td>\n",
       "      <td>South East, England</td>\n",
       "      <td>United Kingdom</td>\n",
       "      <td>GB</td>\n",
       "      <td>admin</td>\n",
       "      <td>-0.993491</td>\n",
       "      <td>51.450970</td>\n",
       "    </tr>\n",
       "    <tr>\n",
       "      <th>4</th>\n",
       "      <td>94d47cc557aa35f4</td>\n",
       "      <td>Nicholasville</td>\n",
       "      <td>Nicholasville, KY</td>\n",
       "      <td>United States</td>\n",
       "      <td>US</td>\n",
       "      <td>city</td>\n",
       "      <td>-84.579594</td>\n",
       "      <td>37.872506</td>\n",
       "    </tr>\n",
       "    <tr>\n",
       "      <th>...</th>\n",
       "      <td>...</td>\n",
       "      <td>...</td>\n",
       "      <td>...</td>\n",
       "      <td>...</td>\n",
       "      <td>...</td>\n",
       "      <td>...</td>\n",
       "      <td>...</td>\n",
       "      <td>...</td>\n",
       "    </tr>\n",
       "    <tr>\n",
       "      <th>7364</th>\n",
       "      <td>486bc865d347cd73</td>\n",
       "      <td>Florin</td>\n",
       "      <td>Florin, CA</td>\n",
       "      <td>United States</td>\n",
       "      <td>US</td>\n",
       "      <td>city</td>\n",
       "      <td>-121.405325</td>\n",
       "      <td>38.489315</td>\n",
       "    </tr>\n",
       "    <tr>\n",
       "      <th>7365</th>\n",
       "      <td>35f73f0698fa5f98</td>\n",
       "      <td>Athens</td>\n",
       "      <td>Athens, TN</td>\n",
       "      <td>United States</td>\n",
       "      <td>US</td>\n",
       "      <td>city</td>\n",
       "      <td>-84.603682</td>\n",
       "      <td>35.445604</td>\n",
       "    </tr>\n",
       "    <tr>\n",
       "      <th>7366</th>\n",
       "      <td>00ace66c41e736ad</td>\n",
       "      <td>Mubi</td>\n",
       "      <td>Mubi, Nigeria</td>\n",
       "      <td>Nigeria</td>\n",
       "      <td>NG</td>\n",
       "      <td>city</td>\n",
       "      <td>13.269995</td>\n",
       "      <td>10.268770</td>\n",
       "    </tr>\n",
       "    <tr>\n",
       "      <th>7367</th>\n",
       "      <td>fb4d9b85c6daedc1</td>\n",
       "      <td>Nigel</td>\n",
       "      <td>Nigel, South Africa</td>\n",
       "      <td>South Africa</td>\n",
       "      <td>ZA</td>\n",
       "      <td>city</td>\n",
       "      <td>28.464121</td>\n",
       "      <td>-26.390979</td>\n",
       "    </tr>\n",
       "    <tr>\n",
       "      <th>7368</th>\n",
       "      <td>5351d399e13f979c</td>\n",
       "      <td>Palwal</td>\n",
       "      <td>Palwal, India</td>\n",
       "      <td>India</td>\n",
       "      <td>IN</td>\n",
       "      <td>city</td>\n",
       "      <td>77.392754</td>\n",
       "      <td>28.061317</td>\n",
       "    </tr>\n",
       "  </tbody>\n",
       "</table>\n",
       "<p>7369 rows × 8 columns</p>\n",
       "</div>"
      ],
      "text/plain": [
       "                    id           name            full_name         country  \\\n",
       "0     67b98f17fdcf20be         Boston           Boston, MA   United States   \n",
       "1     5c62ffb0f0f3479d        Phoenix          Phoenix, AZ   United States   \n",
       "2     8a927a7056322151       Botswana             Botswana        Botswana   \n",
       "3     06168d1feda43857     South East  South East, England  United Kingdom   \n",
       "4     94d47cc557aa35f4  Nicholasville    Nicholasville, KY   United States   \n",
       "...                ...            ...                  ...             ...   \n",
       "7364  486bc865d347cd73         Florin           Florin, CA   United States   \n",
       "7365  35f73f0698fa5f98         Athens           Athens, TN   United States   \n",
       "7366  00ace66c41e736ad           Mubi        Mubi, Nigeria         Nigeria   \n",
       "7367  fb4d9b85c6daedc1          Nigel  Nigel, South Africa    South Africa   \n",
       "7368  5351d399e13f979c         Palwal        Palwal, India           India   \n",
       "\n",
       "     country_code     type         lat        lon  \n",
       "0              US     city  -71.088478  42.311398  \n",
       "1              US     city -112.073523  33.552088  \n",
       "2              BW  country   24.481179 -22.342707  \n",
       "3              GB    admin   -0.993491  51.450970  \n",
       "4              US     city  -84.579594  37.872506  \n",
       "...           ...      ...         ...        ...  \n",
       "7364           US     city -121.405325  38.489315  \n",
       "7365           US     city  -84.603682  35.445604  \n",
       "7366           NG     city   13.269995  10.268770  \n",
       "7367           ZA     city   28.464121 -26.390979  \n",
       "7368           IN     city   77.392754  28.061317  \n",
       "\n",
       "[7369 rows x 8 columns]"
      ]
     },
     "execution_count": 12,
     "metadata": {},
     "output_type": "execute_result"
    }
   ],
   "source": [
    "place_df"
   ]
  },
  {
   "cell_type": "markdown",
   "metadata": {},
   "source": [
    "URL_regex = 'https?:\\/\\/(www\\.)?[-a-zA-Z0-9@:%._\\+~#=]{1,256}\\.[a-zA-Z0-9()]{1,6}\\b([-a-zA-Z0-9()@:%_\\+.~#?&//=]*)'"
   ]
  },
  {
   "cell_type": "code",
   "execution_count": 13,
   "metadata": {},
   "outputs": [],
   "source": [
    "URL_regex = r'https?:\\/\\/(www\\.)?[-a-zA-Z0-9@:%._\\+~#=]{1,256}\\.[a-zA-Z0-9()]{1,6}\\b([-a-zA-Z0-9()@:%_\\+.~#?&\\/\\/=]*)'"
   ]
  },
  {
   "cell_type": "code",
   "execution_count": 14,
   "metadata": {},
   "outputs": [],
   "source": [
    "df = pd.DataFrame(data)\n",
    "merged = pd.merge(df, place_df, how = 'left', left_on = 'place_id', right_on='id')\n",
    "full_data = pd.merge(merged, users_df, how='left', left_on ='user_id', right_on = 'id')\n",
    "# full_data.to_csv('fulldata.csv', index = False) # 3 Gigs of data, not great...\n",
    "# full_data.description.iloc[0,]\n",
    "# places_unpacked # Cool opportunity for geographic visualization"
   ]
  },
  {
   "cell_type": "code",
   "execution_count": 15,
   "metadata": {},
   "outputs": [
    {
     "data": {
      "text/plain": [
       "30470"
      ]
     },
     "execution_count": 15,
     "metadata": {},
     "output_type": "execute_result"
    }
   ],
   "source": [
    "len(full_data['user_id'].unique())"
   ]
  },
  {
   "cell_type": "code",
   "execution_count": 36,
   "metadata": {},
   "outputs": [
    {
     "data": {
      "text/plain": [
       "0.9066735266648764"
      ]
     },
     "execution_count": 36,
     "metadata": {},
     "output_type": "execute_result"
    }
   ],
   "source": [
    "# Limit to top 6 countries\n",
    "by_country = merged.groupby('country').count()\n",
    "top6 = by_country.sort_values(by = 'user_id', ascending=False).head(6)\n",
    "total = by_country.user_id.sum()\n",
    "top6.user_id.divide(total).sum()"
   ]
  },
  {
   "cell_type": "markdown",
   "metadata": {},
   "source": [
    "The top 6 countries account for 91% of the total users collected, which suggests pretty good coverage. Dropping unnecessary columns"
   ]
  },
  {
   "cell_type": "markdown",
   "metadata": {},
   "source": [
    "Rename Columns"
   ]
  },
  {
   "cell_type": "code",
   "execution_count": 37,
   "metadata": {},
   "outputs": [],
   "source": [
    "target_fields = ['user_id', 'tweet_id', 'tweet_text', 'place_id', 'name',\n",
    "       'full_name', 'country', 'country_code', 'type', 'username',\n",
    "       'description', 'user_name_field', 'location', 'lat', 'lon']\n",
    "reduced_df = full_data[target_fields]\n",
    "reduced_df = reduced_df.rename(columns={'name':'place_name', \n",
    "                                        'full_name':'full_place_name',\n",
    "                                        'type': 'place_type', \n",
    "                                        'description':'profile_description',\n",
    "                                        'user_name_field':'profile_name',\n",
    "                                        'location':'profile_location',\n",
    "                                        'lat': 'lat',\n",
    "                                        'lon':'lon'\n",
    "                                        })"
   ]
  },
  {
   "cell_type": "markdown",
   "metadata": {},
   "source": [
    "Drop Duplicates"
   ]
  },
  {
   "cell_type": "code",
   "execution_count": 38,
   "metadata": {},
   "outputs": [],
   "source": [
    "top6_countries = top6.index\n",
    "top6 = reduced_df[reduced_df['country'].isin(top6_countries)]\n",
    "unique_tweets = top6['tweet_id'].unique()\n",
    "top6 = top6.drop_duplicates('tweet_id')"
   ]
  },
  {
   "cell_type": "markdown",
   "metadata": {},
   "source": [
    "## Clean Tweet Texts"
   ]
  },
  {
   "cell_type": "code",
   "execution_count": 39,
   "metadata": {},
   "outputs": [
    {
     "data": {
      "text/plain": [
       "'@JatinPandyaVBNJ @1shankarsharma Indeed.  Nadi Jyotish has excellent rules.  Namaste.'"
      ]
     },
     "execution_count": 39,
     "metadata": {},
     "output_type": "execute_result"
    }
   ],
   "source": [
    "text_test = top6.tweet_text.iloc[1]\n",
    "text_test"
   ]
  },
  {
   "cell_type": "code",
   "execution_count": 40,
   "metadata": {},
   "outputs": [
    {
     "data": {
      "text/plain": [
       "' Indeed.  Nadi Jyotish has excellent rules.  Namaste.'"
      ]
     },
     "execution_count": 40,
     "metadata": {},
     "output_type": "execute_result"
    }
   ],
   "source": [
    "re.sub(URL_regex, \"\", text_test)\n",
    "re.sub(twitter_username_re, \"\", text_test)"
   ]
  },
  {
   "cell_type": "code",
   "execution_count": 41,
   "metadata": {},
   "outputs": [],
   "source": [
    "def clean_text(text):\n",
    "    temp = re.sub(URL_regex, \"\", text)\n",
    "\n",
    "    return re.sub(twitter_username_re, \"\", text)\n",
    "\n",
    "top6['clean_text'] = top6.tweet_text.apply(clean_text)"
   ]
  },
  {
   "cell_type": "code",
   "execution_count": 42,
   "metadata": {},
   "outputs": [
    {
     "data": {
      "text/plain": [
       "(859183, 16)"
      ]
     },
     "execution_count": 42,
     "metadata": {},
     "output_type": "execute_result"
    }
   ],
   "source": [
    "top6 = top6.drop_duplicates('tweet_id')\n",
    "top6.shape"
   ]
  },
  {
   "cell_type": "code",
   "execution_count": 24,
   "metadata": {},
   "outputs": [],
   "source": [
    "top6.to_csv('filtered_data.csv', index=False)"
   ]
  },
  {
   "cell_type": "code",
   "execution_count": 25,
   "metadata": {},
   "outputs": [],
   "source": [
    "mapping = pd.read_csv('census_mapping.csv')"
   ]
  },
  {
   "cell_type": "code",
   "execution_count": 34,
   "metadata": {},
   "outputs": [
    {
     "data": {
      "text/plain": [
       "Index(['user_id', 'tweet_id', 'tweet_text', 'place_id', 'place_name',\n",
       "       'full_place_name', 'country', 'country_code', 'place_type', 'username',\n",
       "       'profile_description', 'profile_name', 'profile_location', 'lat', 'lon',\n",
       "       'clean_text'],\n",
       "      dtype='object')"
      ]
     },
     "execution_count": 34,
     "metadata": {},
     "output_type": "execute_result"
    }
   ],
   "source": [
    "top6.columns"
   ]
  },
  {
   "cell_type": "code",
   "execution_count": 66,
   "metadata": {},
   "outputs": [],
   "source": [
    "cpl_list = top6[top6.country == 'United States'].to_dict('records')\n",
    "\n",
    "for cpl in cpl_list:\n",
    "    if cpl['place_type'] == 'city':\n",
    "        cpl['state'] = cpl['full_place_name'][-2:].upper()\n",
    "        if cpl['state'] not in set(mapping['State Code']):\n",
    "            cpl['state'] = None\n",
    "    elif cpl['place_type'] == 'admin':\n",
    "        if cpl['place_name'] not in set(mapping.State):\n",
    "            cpl['state'] = None\n",
    "        else:\n",
    "            cpl['state'] = mapping[mapping.State == cpl['place_name']]['State Code'].item()\n",
    "    elif cpl['place_type'] == 'neighborhood': # Just Hollywood\n",
    "        cpl['state'] = 'CA'\n",
    "    else:\n",
    "        cpl['state'] = None\n",
    "\n",
    "    if cpl['state'] is not None:\n",
    "        cpl['region'] = mapping[mapping['State Code'] == cpl['state']]['Region'].item()\n",
    "        cpl['division'] = mapping[mapping['State Code'] == cpl['state']]['Division'].item()\n",
    "    else:\n",
    "        cpl['region'] = None\n",
    "        cpl['division'] = None"
   ]
  },
  {
   "cell_type": "code",
   "execution_count": 67,
   "metadata": {},
   "outputs": [],
   "source": [
    "test = pd.DataFrame(cpl_list)"
   ]
  },
  {
   "cell_type": "code",
   "execution_count": 68,
   "metadata": {},
   "outputs": [
    {
     "data": {
      "text/html": [
       "<div>\n",
       "<style scoped>\n",
       "    .dataframe tbody tr th:only-of-type {\n",
       "        vertical-align: middle;\n",
       "    }\n",
       "\n",
       "    .dataframe tbody tr th {\n",
       "        vertical-align: top;\n",
       "    }\n",
       "\n",
       "    .dataframe thead th {\n",
       "        text-align: right;\n",
       "    }\n",
       "</style>\n",
       "<table border=\"1\" class=\"dataframe\">\n",
       "  <thead>\n",
       "    <tr style=\"text-align: right;\">\n",
       "      <th></th>\n",
       "      <th>user_id</th>\n",
       "      <th>tweet_id</th>\n",
       "      <th>tweet_text</th>\n",
       "      <th>place_id</th>\n",
       "      <th>place_name</th>\n",
       "      <th>full_place_name</th>\n",
       "      <th>country</th>\n",
       "      <th>country_code</th>\n",
       "      <th>place_type</th>\n",
       "      <th>username</th>\n",
       "      <th>profile_description</th>\n",
       "      <th>profile_name</th>\n",
       "      <th>profile_location</th>\n",
       "      <th>lat</th>\n",
       "      <th>lon</th>\n",
       "      <th>clean_text</th>\n",
       "      <th>state</th>\n",
       "      <th>region</th>\n",
       "      <th>division</th>\n",
       "    </tr>\n",
       "  </thead>\n",
       "  <tbody>\n",
       "    <tr>\n",
       "      <th>0</th>\n",
       "      <td>2586324829</td>\n",
       "      <td>1637882537060999184</td>\n",
       "      <td>@hopefrtomorrow What I said about that is true...</td>\n",
       "      <td>9902fe95fc7596a7</td>\n",
       "      <td>Belvedere Park</td>\n",
       "      <td>Belvedere Park, GA</td>\n",
       "      <td>United States</td>\n",
       "      <td>US</td>\n",
       "      <td>city</td>\n",
       "      <td>AmaBoukman1804</td>\n",
       "      <td>I am a moderate; the world is radically unjust...</td>\n",
       "      <td>Ama Boukman</td>\n",
       "      <td>United States</td>\n",
       "      <td>-84.259329</td>\n",
       "      <td>33.752877</td>\n",
       "      <td>What I said about that is true. They tried to...</td>\n",
       "      <td>GA</td>\n",
       "      <td>South</td>\n",
       "      <td>South Atlantic</td>\n",
       "    </tr>\n",
       "    <tr>\n",
       "      <th>1</th>\n",
       "      <td>2586324829</td>\n",
       "      <td>1637855927326892036</td>\n",
       "      <td>A test case doesn't have to include ALL variab...</td>\n",
       "      <td>9902fe95fc7596a7</td>\n",
       "      <td>Belvedere Park</td>\n",
       "      <td>Belvedere Park, GA</td>\n",
       "      <td>United States</td>\n",
       "      <td>US</td>\n",
       "      <td>city</td>\n",
       "      <td>AmaBoukman1804</td>\n",
       "      <td>I am a moderate; the world is radically unjust...</td>\n",
       "      <td>Ama Boukman</td>\n",
       "      <td>United States</td>\n",
       "      <td>-84.259329</td>\n",
       "      <td>33.752877</td>\n",
       "      <td>A test case doesn't have to include ALL variab...</td>\n",
       "      <td>GA</td>\n",
       "      <td>South</td>\n",
       "      <td>South Atlantic</td>\n",
       "    </tr>\n",
       "    <tr>\n",
       "      <th>2</th>\n",
       "      <td>2586324829</td>\n",
       "      <td>1637854618175565825</td>\n",
       "      <td>@desounds It would have to allow for multi-eth...</td>\n",
       "      <td>9902fe95fc7596a7</td>\n",
       "      <td>Belvedere Park</td>\n",
       "      <td>Belvedere Park, GA</td>\n",
       "      <td>United States</td>\n",
       "      <td>US</td>\n",
       "      <td>city</td>\n",
       "      <td>AmaBoukman1804</td>\n",
       "      <td>I am a moderate; the world is radically unjust...</td>\n",
       "      <td>Ama Boukman</td>\n",
       "      <td>United States</td>\n",
       "      <td>-84.259329</td>\n",
       "      <td>33.752877</td>\n",
       "      <td>It would have to allow for multi-ethnic citie...</td>\n",
       "      <td>GA</td>\n",
       "      <td>South</td>\n",
       "      <td>South Atlantic</td>\n",
       "    </tr>\n",
       "    <tr>\n",
       "      <th>3</th>\n",
       "      <td>2586324829</td>\n",
       "      <td>1637854183956045838</td>\n",
       "      <td>@desounds Black people united in pursuit of po...</td>\n",
       "      <td>9902fe95fc7596a7</td>\n",
       "      <td>Belvedere Park</td>\n",
       "      <td>Belvedere Park, GA</td>\n",
       "      <td>United States</td>\n",
       "      <td>US</td>\n",
       "      <td>city</td>\n",
       "      <td>AmaBoukman1804</td>\n",
       "      <td>I am a moderate; the world is radically unjust...</td>\n",
       "      <td>Ama Boukman</td>\n",
       "      <td>United States</td>\n",
       "      <td>-84.259329</td>\n",
       "      <td>33.752877</td>\n",
       "      <td>Black people united in pursuit of political a...</td>\n",
       "      <td>GA</td>\n",
       "      <td>South</td>\n",
       "      <td>South Atlantic</td>\n",
       "    </tr>\n",
       "    <tr>\n",
       "      <th>4</th>\n",
       "      <td>2586324829</td>\n",
       "      <td>1637852746597425164</td>\n",
       "      <td>@desounds What's good for the goose is good fo...</td>\n",
       "      <td>9902fe95fc7596a7</td>\n",
       "      <td>Belvedere Park</td>\n",
       "      <td>Belvedere Park, GA</td>\n",
       "      <td>United States</td>\n",
       "      <td>US</td>\n",
       "      <td>city</td>\n",
       "      <td>AmaBoukman1804</td>\n",
       "      <td>I am a moderate; the world is radically unjust...</td>\n",
       "      <td>Ama Boukman</td>\n",
       "      <td>United States</td>\n",
       "      <td>-84.259329</td>\n",
       "      <td>33.752877</td>\n",
       "      <td>What's good for the goose is good for the gan...</td>\n",
       "      <td>GA</td>\n",
       "      <td>South</td>\n",
       "      <td>South Atlantic</td>\n",
       "    </tr>\n",
       "    <tr>\n",
       "      <th>...</th>\n",
       "      <td>...</td>\n",
       "      <td>...</td>\n",
       "      <td>...</td>\n",
       "      <td>...</td>\n",
       "      <td>...</td>\n",
       "      <td>...</td>\n",
       "      <td>...</td>\n",
       "      <td>...</td>\n",
       "      <td>...</td>\n",
       "      <td>...</td>\n",
       "      <td>...</td>\n",
       "      <td>...</td>\n",
       "      <td>...</td>\n",
       "      <td>...</td>\n",
       "      <td>...</td>\n",
       "      <td>...</td>\n",
       "      <td>...</td>\n",
       "      <td>...</td>\n",
       "      <td>...</td>\n",
       "    </tr>\n",
       "    <tr>\n",
       "      <th>668912</th>\n",
       "      <td>51813432</td>\n",
       "      <td>1628119143546486785</td>\n",
       "      <td>@niicole__nicole @JRabbit951 Me!!! I love my n...</td>\n",
       "      <td>5c62ffb0f0f3479d</td>\n",
       "      <td>Phoenix</td>\n",
       "      <td>Phoenix, AZ</td>\n",
       "      <td>United States</td>\n",
       "      <td>US</td>\n",
       "      <td>city</td>\n",
       "      <td>thariddler</td>\n",
       "      <td>Nice guys ALWAYS finish laaast...</td>\n",
       "      <td>Ramon Hernandez</td>\n",
       "      <td>PHX, AZ</td>\n",
       "      <td>-112.073523</td>\n",
       "      <td>33.552088</td>\n",
       "      <td>Me!!! I love my nephews and nieces and I’ve t...</td>\n",
       "      <td>AZ</td>\n",
       "      <td>West</td>\n",
       "      <td>Mountain</td>\n",
       "    </tr>\n",
       "    <tr>\n",
       "      <th>668913</th>\n",
       "      <td>51813432</td>\n",
       "      <td>1628114891633758210</td>\n",
       "      <td>@Intel_Dork My was the negotiator with Samuel ...</td>\n",
       "      <td>5c62ffb0f0f3479d</td>\n",
       "      <td>Phoenix</td>\n",
       "      <td>Phoenix, AZ</td>\n",
       "      <td>United States</td>\n",
       "      <td>US</td>\n",
       "      <td>city</td>\n",
       "      <td>thariddler</td>\n",
       "      <td>Nice guys ALWAYS finish laaast...</td>\n",
       "      <td>Ramon Hernandez</td>\n",
       "      <td>PHX, AZ</td>\n",
       "      <td>-112.073523</td>\n",
       "      <td>33.552088</td>\n",
       "      <td>My was the negotiator with Samuel L Jackson a...</td>\n",
       "      <td>AZ</td>\n",
       "      <td>West</td>\n",
       "      <td>Mountain</td>\n",
       "    </tr>\n",
       "    <tr>\n",
       "      <th>668914</th>\n",
       "      <td>51813432</td>\n",
       "      <td>1628113691555274752</td>\n",
       "      <td>@DJCLUE From my top 5, I’d cry 😢</td>\n",
       "      <td>5c62ffb0f0f3479d</td>\n",
       "      <td>Phoenix</td>\n",
       "      <td>Phoenix, AZ</td>\n",
       "      <td>United States</td>\n",
       "      <td>US</td>\n",
       "      <td>city</td>\n",
       "      <td>thariddler</td>\n",
       "      <td>Nice guys ALWAYS finish laaast...</td>\n",
       "      <td>Ramon Hernandez</td>\n",
       "      <td>PHX, AZ</td>\n",
       "      <td>-112.073523</td>\n",
       "      <td>33.552088</td>\n",
       "      <td>From my top 5, I’d cry 😢</td>\n",
       "      <td>AZ</td>\n",
       "      <td>West</td>\n",
       "      <td>Mountain</td>\n",
       "    </tr>\n",
       "    <tr>\n",
       "      <th>668915</th>\n",
       "      <td>51813432</td>\n",
       "      <td>1628113107108397056</td>\n",
       "      <td>@mobslittlemob I like to be a winner 😎🤙🏼😉😉😋👏🏼👏🏼👏🏼</td>\n",
       "      <td>5c62ffb0f0f3479d</td>\n",
       "      <td>Phoenix</td>\n",
       "      <td>Phoenix, AZ</td>\n",
       "      <td>United States</td>\n",
       "      <td>US</td>\n",
       "      <td>city</td>\n",
       "      <td>thariddler</td>\n",
       "      <td>Nice guys ALWAYS finish laaast...</td>\n",
       "      <td>Ramon Hernandez</td>\n",
       "      <td>PHX, AZ</td>\n",
       "      <td>-112.073523</td>\n",
       "      <td>33.552088</td>\n",
       "      <td>I like to be a winner 😎🤙🏼😉😉😋👏🏼👏🏼👏🏼</td>\n",
       "      <td>AZ</td>\n",
       "      <td>West</td>\n",
       "      <td>Mountain</td>\n",
       "    </tr>\n",
       "    <tr>\n",
       "      <th>668916</th>\n",
       "      <td>51813432</td>\n",
       "      <td>1628112261670920192</td>\n",
       "      <td>@XXL French Montana</td>\n",
       "      <td>5c62ffb0f0f3479d</td>\n",
       "      <td>Phoenix</td>\n",
       "      <td>Phoenix, AZ</td>\n",
       "      <td>United States</td>\n",
       "      <td>US</td>\n",
       "      <td>city</td>\n",
       "      <td>thariddler</td>\n",
       "      <td>Nice guys ALWAYS finish laaast...</td>\n",
       "      <td>Ramon Hernandez</td>\n",
       "      <td>PHX, AZ</td>\n",
       "      <td>-112.073523</td>\n",
       "      <td>33.552088</td>\n",
       "      <td>French Montana</td>\n",
       "      <td>AZ</td>\n",
       "      <td>West</td>\n",
       "      <td>Mountain</td>\n",
       "    </tr>\n",
       "  </tbody>\n",
       "</table>\n",
       "<p>668917 rows × 19 columns</p>\n",
       "</div>"
      ],
      "text/plain": [
       "           user_id             tweet_id  \\\n",
       "0       2586324829  1637882537060999184   \n",
       "1       2586324829  1637855927326892036   \n",
       "2       2586324829  1637854618175565825   \n",
       "3       2586324829  1637854183956045838   \n",
       "4       2586324829  1637852746597425164   \n",
       "...            ...                  ...   \n",
       "668912    51813432  1628119143546486785   \n",
       "668913    51813432  1628114891633758210   \n",
       "668914    51813432  1628113691555274752   \n",
       "668915    51813432  1628113107108397056   \n",
       "668916    51813432  1628112261670920192   \n",
       "\n",
       "                                               tweet_text          place_id  \\\n",
       "0       @hopefrtomorrow What I said about that is true...  9902fe95fc7596a7   \n",
       "1       A test case doesn't have to include ALL variab...  9902fe95fc7596a7   \n",
       "2       @desounds It would have to allow for multi-eth...  9902fe95fc7596a7   \n",
       "3       @desounds Black people united in pursuit of po...  9902fe95fc7596a7   \n",
       "4       @desounds What's good for the goose is good fo...  9902fe95fc7596a7   \n",
       "...                                                   ...               ...   \n",
       "668912  @niicole__nicole @JRabbit951 Me!!! I love my n...  5c62ffb0f0f3479d   \n",
       "668913  @Intel_Dork My was the negotiator with Samuel ...  5c62ffb0f0f3479d   \n",
       "668914                   @DJCLUE From my top 5, I’d cry 😢  5c62ffb0f0f3479d   \n",
       "668915  @mobslittlemob I like to be a winner 😎🤙🏼😉😉😋👏🏼👏🏼👏🏼  5c62ffb0f0f3479d   \n",
       "668916                                @XXL French Montana  5c62ffb0f0f3479d   \n",
       "\n",
       "            place_name     full_place_name        country country_code  \\\n",
       "0       Belvedere Park  Belvedere Park, GA  United States           US   \n",
       "1       Belvedere Park  Belvedere Park, GA  United States           US   \n",
       "2       Belvedere Park  Belvedere Park, GA  United States           US   \n",
       "3       Belvedere Park  Belvedere Park, GA  United States           US   \n",
       "4       Belvedere Park  Belvedere Park, GA  United States           US   \n",
       "...                ...                 ...            ...          ...   \n",
       "668912         Phoenix         Phoenix, AZ  United States           US   \n",
       "668913         Phoenix         Phoenix, AZ  United States           US   \n",
       "668914         Phoenix         Phoenix, AZ  United States           US   \n",
       "668915         Phoenix         Phoenix, AZ  United States           US   \n",
       "668916         Phoenix         Phoenix, AZ  United States           US   \n",
       "\n",
       "       place_type        username  \\\n",
       "0            city  AmaBoukman1804   \n",
       "1            city  AmaBoukman1804   \n",
       "2            city  AmaBoukman1804   \n",
       "3            city  AmaBoukman1804   \n",
       "4            city  AmaBoukman1804   \n",
       "...           ...             ...   \n",
       "668912       city      thariddler   \n",
       "668913       city      thariddler   \n",
       "668914       city      thariddler   \n",
       "668915       city      thariddler   \n",
       "668916       city      thariddler   \n",
       "\n",
       "                                      profile_description     profile_name  \\\n",
       "0       I am a moderate; the world is radically unjust...      Ama Boukman   \n",
       "1       I am a moderate; the world is radically unjust...      Ama Boukman   \n",
       "2       I am a moderate; the world is radically unjust...      Ama Boukman   \n",
       "3       I am a moderate; the world is radically unjust...      Ama Boukman   \n",
       "4       I am a moderate; the world is radically unjust...      Ama Boukman   \n",
       "...                                                   ...              ...   \n",
       "668912                  Nice guys ALWAYS finish laaast...  Ramon Hernandez   \n",
       "668913                  Nice guys ALWAYS finish laaast...  Ramon Hernandez   \n",
       "668914                  Nice guys ALWAYS finish laaast...  Ramon Hernandez   \n",
       "668915                  Nice guys ALWAYS finish laaast...  Ramon Hernandez   \n",
       "668916                  Nice guys ALWAYS finish laaast...  Ramon Hernandez   \n",
       "\n",
       "       profile_location         lat        lon  \\\n",
       "0         United States  -84.259329  33.752877   \n",
       "1         United States  -84.259329  33.752877   \n",
       "2         United States  -84.259329  33.752877   \n",
       "3         United States  -84.259329  33.752877   \n",
       "4         United States  -84.259329  33.752877   \n",
       "...                 ...         ...        ...   \n",
       "668912          PHX, AZ -112.073523  33.552088   \n",
       "668913          PHX, AZ -112.073523  33.552088   \n",
       "668914          PHX, AZ -112.073523  33.552088   \n",
       "668915          PHX, AZ -112.073523  33.552088   \n",
       "668916          PHX, AZ -112.073523  33.552088   \n",
       "\n",
       "                                               clean_text state region  \\\n",
       "0        What I said about that is true. They tried to...    GA  South   \n",
       "1       A test case doesn't have to include ALL variab...    GA  South   \n",
       "2        It would have to allow for multi-ethnic citie...    GA  South   \n",
       "3        Black people united in pursuit of political a...    GA  South   \n",
       "4        What's good for the goose is good for the gan...    GA  South   \n",
       "...                                                   ...   ...    ...   \n",
       "668912   Me!!! I love my nephews and nieces and I’ve t...    AZ   West   \n",
       "668913   My was the negotiator with Samuel L Jackson a...    AZ   West   \n",
       "668914                           From my top 5, I’d cry 😢    AZ   West   \n",
       "668915                 I like to be a winner 😎🤙🏼😉😉😋👏🏼👏🏼👏🏼    AZ   West   \n",
       "668916                                     French Montana    AZ   West   \n",
       "\n",
       "              division  \n",
       "0       South Atlantic  \n",
       "1       South Atlantic  \n",
       "2       South Atlantic  \n",
       "3       South Atlantic  \n",
       "4       South Atlantic  \n",
       "...                ...  \n",
       "668912        Mountain  \n",
       "668913        Mountain  \n",
       "668914        Mountain  \n",
       "668915        Mountain  \n",
       "668916        Mountain  \n",
       "\n",
       "[668917 rows x 19 columns]"
      ]
     },
     "execution_count": 68,
     "metadata": {},
     "output_type": "execute_result"
    }
   ],
   "source": [
    "test"
   ]
  },
  {
   "cell_type": "code",
   "execution_count": 69,
   "metadata": {},
   "outputs": [],
   "source": [
    "cpl_us = pd.DataFrame(cpl_list).dropna(subset = ['state', 'region', 'division'])"
   ]
  },
  {
   "cell_type": "code",
   "execution_count": 70,
   "metadata": {},
   "outputs": [
    {
     "data": {
      "text/plain": [
       "(667742, 19)"
      ]
     },
     "execution_count": 70,
     "metadata": {},
     "output_type": "execute_result"
    }
   ],
   "source": [
    "cpl_us.shape"
   ]
  },
  {
   "cell_type": "code",
   "execution_count": 72,
   "metadata": {},
   "outputs": [
    {
     "data": {
      "text/plain": [
       "<AxesSubplot:xlabel='division'>"
      ]
     },
     "execution_count": 72,
     "metadata": {},
     "output_type": "execute_result"
    },
    {
     "data": {
      "image/png": "[encoded data removed]",
      "text/plain": [
       "<Figure size 432x288 with 1 Axes>"
      ]
     },
     "metadata": {
      "needs_background": "light"
     },
     "output_type": "display_data"
    }
   ],
   "source": [
    "cpl_us.groupby('division').agg('count').reset_index().plot(x = 'division', y = 'tweet_id', kind = 'bar')"
   ]
  },
  {
   "cell_type": "code",
   "execution_count": null,
   "metadata": {},
   "outputs": [],
   "source": [
    "cpl_us.to_csv('tweets_us.csv', index = False)"
   ]
  }
 ],
 "metadata": {
  "kernelspec": {
   "display_name": "Python 3 (ipykernel)",
   "language": "python",
   "name": "python3"
  },
  "language_info": {
   "codemirror_mode": {
    "name": "ipython",
    "version": 3
   },
   "file_extension": ".py",
   "mimetype": "text/x-python",
   "name": "python",
   "nbconvert_exporter": "python",
   "pygments_lexer": "ipython3",
   "version": "3.9.7"
  },
  "vscode": {
   "interpreter": {
    "hash": "ad2bdc8ecc057115af97d19610ffacc2b4e99fae6737bb82f5d7fb13d2f2c186"
   }
  }
 },
 "nbformat": 4,
 "nbformat_minor": 2
}
