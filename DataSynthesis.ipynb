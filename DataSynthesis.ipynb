{
 "cells": [
  {
   "cell_type": "code",
   "execution_count": 1,
   "metadata": {},
   "outputs": [],
   "source": [
    "import requests\n",
    "import os\n",
    "import json\n",
    "import pandas as pd\n",
    "import numpy as np\n",
    "import pickle as pkl\n",
    "import TwitterUtils as TU\n",
    "import seaborn as sns\n",
    "import re\n",
    "\n",
    "# import spacy\n",
    "# import spacy_langdetect as sld"
   ]
  },
  {
   "cell_type": "code",
   "execution_count": 2,
   "metadata": {},
   "outputs": [],
   "source": [
    "with open(\"user_data_temp.pkl\", \"rb\") as file: # Unique Places\n",
    "    convos = pkl.load(file)"
   ]
  },
  {
   "cell_type": "code",
   "execution_count": 3,
   "metadata": {},
   "outputs": [
    {
     "data": {
      "text/html": [
       "<div>\n",
       "<style scoped>\n",
       "    .dataframe tbody tr th:only-of-type {\n",
       "        vertical-align: middle;\n",
       "    }\n",
       "\n",
       "    .dataframe tbody tr th {\n",
       "        vertical-align: top;\n",
       "    }\n",
       "\n",
       "    .dataframe thead th {\n",
       "        text-align: right;\n",
       "    }\n",
       "</style>\n",
       "<table border=\"1\" class=\"dataframe\">\n",
       "  <thead>\n",
       "    <tr style=\"text-align: right;\">\n",
       "      <th></th>\n",
       "      <th>user_id</th>\n",
       "      <th>tweet_id</th>\n",
       "      <th>tweet_text</th>\n",
       "      <th>referenced_tweets</th>\n",
       "      <th>convo_id</th>\n",
       "      <th>reply_to_user_id</th>\n",
       "    </tr>\n",
       "  </thead>\n",
       "  <tbody>\n",
       "    <tr>\n",
       "      <th>0</th>\n",
       "      <td>1013303513449836547</td>\n",
       "      <td>1638630321473335297</td>\n",
       "      <td>@1shankarsharma @Pavanasoonu Think.... astrolo...</td>\n",
       "      <td>[{'type': 'replied_to', 'id': '163774835712786...</td>\n",
       "      <td>1637733079002537986</td>\n",
       "      <td>2989553946</td>\n",
       "    </tr>\n",
       "    <tr>\n",
       "      <th>1</th>\n",
       "      <td>960759818</td>\n",
       "      <td>1638112643293511681</td>\n",
       "      <td>@Pavanasoonu @1shankarsharma sir, dont bother ...</td>\n",
       "      <td>[{'type': 'replied_to', 'id': '163774965390627...</td>\n",
       "      <td>1637733079002537986</td>\n",
       "      <td>1051074201082388480</td>\n",
       "    </tr>\n",
       "    <tr>\n",
       "      <th>2</th>\n",
       "      <td>721002729578094592</td>\n",
       "      <td>1638034126531104768</td>\n",
       "      <td>@Pavanasoonu Pranaam Sir🙏\\nWhat is your take o...</td>\n",
       "      <td>[{'type': 'replied_to', 'id': '163773307900253...</td>\n",
       "      <td>1637733079002537986</td>\n",
       "      <td>1051074201082388480</td>\n",
       "    </tr>\n",
       "    <tr>\n",
       "      <th>3</th>\n",
       "      <td>751663829264666624</td>\n",
       "      <td>1638031325126074369</td>\n",
       "      <td>@1shankarsharma @Pavanasoonu If someone asks w...</td>\n",
       "      <td>[{'type': 'replied_to', 'id': '163774835712786...</td>\n",
       "      <td>1637733079002537986</td>\n",
       "      <td>2989553946</td>\n",
       "    </tr>\n",
       "    <tr>\n",
       "      <th>4</th>\n",
       "      <td>1051074201082388480</td>\n",
       "      <td>1638027677776113670</td>\n",
       "      <td>@Gajendr70729189 @amitsharma2704 @1shankarshar...</td>\n",
       "      <td>[{'type': 'replied_to', 'id': '163802387093334...</td>\n",
       "      <td>1637733079002537986</td>\n",
       "      <td>1420750442577891335</td>\n",
       "    </tr>\n",
       "    <tr>\n",
       "      <th>5</th>\n",
       "      <td>1420750442577891335</td>\n",
       "      <td>1638023870933344256</td>\n",
       "      <td>@Pavanasoonu @amitsharma2704 @1shankarsharma N...</td>\n",
       "      <td>[{'type': 'replied_to', 'id': '163785066821496...</td>\n",
       "      <td>1637733079002537986</td>\n",
       "      <td>1051074201082388480</td>\n",
       "    </tr>\n",
       "    <tr>\n",
       "      <th>6</th>\n",
       "      <td>1399940033784684544</td>\n",
       "      <td>1638018184262606849</td>\n",
       "      <td>@1shankarsharma @Pavanasoonu Also, the person ...</td>\n",
       "      <td>[{'type': 'replied_to', 'id': '163774835712786...</td>\n",
       "      <td>1637733079002537986</td>\n",
       "      <td>2989553946</td>\n",
       "    </tr>\n",
       "    <tr>\n",
       "      <th>7</th>\n",
       "      <td>1507631574451322880</td>\n",
       "      <td>1638003069635153921</td>\n",
       "      <td>@1shankarsharma @Pavanasoonu First of all, bel...</td>\n",
       "      <td>[{'type': 'replied_to', 'id': '163774835712786...</td>\n",
       "      <td>1637733079002537986</td>\n",
       "      <td>2989553946</td>\n",
       "    </tr>\n",
       "    <tr>\n",
       "      <th>8</th>\n",
       "      <td>1013303513449836547</td>\n",
       "      <td>1638630321473335297</td>\n",
       "      <td>@1shankarsharma @Pavanasoonu Think.... astrolo...</td>\n",
       "      <td>[{'type': 'replied_to', 'id': '163774835712786...</td>\n",
       "      <td>1637733079002537986</td>\n",
       "      <td>2989553946</td>\n",
       "    </tr>\n",
       "    <tr>\n",
       "      <th>9</th>\n",
       "      <td>960759818</td>\n",
       "      <td>1638112643293511681</td>\n",
       "      <td>@Pavanasoonu @1shankarsharma sir, dont bother ...</td>\n",
       "      <td>[{'type': 'replied_to', 'id': '163774965390627...</td>\n",
       "      <td>1637733079002537986</td>\n",
       "      <td>1051074201082388480</td>\n",
       "    </tr>\n",
       "    <tr>\n",
       "      <th>10</th>\n",
       "      <td>721002729578094592</td>\n",
       "      <td>1638034126531104768</td>\n",
       "      <td>@Pavanasoonu Pranaam Sir🙏\\nWhat is your take o...</td>\n",
       "      <td>[{'type': 'replied_to', 'id': '163773307900253...</td>\n",
       "      <td>1637733079002537986</td>\n",
       "      <td>1051074201082388480</td>\n",
       "    </tr>\n",
       "    <tr>\n",
       "      <th>11</th>\n",
       "      <td>751663829264666624</td>\n",
       "      <td>1638031325126074369</td>\n",
       "      <td>@1shankarsharma @Pavanasoonu If someone asks w...</td>\n",
       "      <td>[{'type': 'replied_to', 'id': '163774835712786...</td>\n",
       "      <td>1637733079002537986</td>\n",
       "      <td>2989553946</td>\n",
       "    </tr>\n",
       "    <tr>\n",
       "      <th>12</th>\n",
       "      <td>1051074201082388480</td>\n",
       "      <td>1638027677776113670</td>\n",
       "      <td>@Gajendr70729189 @amitsharma2704 @1shankarshar...</td>\n",
       "      <td>[{'type': 'replied_to', 'id': '163802387093334...</td>\n",
       "      <td>1637733079002537986</td>\n",
       "      <td>1420750442577891335</td>\n",
       "    </tr>\n",
       "    <tr>\n",
       "      <th>13</th>\n",
       "      <td>1420750442577891335</td>\n",
       "      <td>1638023870933344256</td>\n",
       "      <td>@Pavanasoonu @amitsharma2704 @1shankarsharma N...</td>\n",
       "      <td>[{'type': 'replied_to', 'id': '163785066821496...</td>\n",
       "      <td>1637733079002537986</td>\n",
       "      <td>1051074201082388480</td>\n",
       "    </tr>\n",
       "    <tr>\n",
       "      <th>14</th>\n",
       "      <td>1399940033784684544</td>\n",
       "      <td>1638018184262606849</td>\n",
       "      <td>@1shankarsharma @Pavanasoonu Also, the person ...</td>\n",
       "      <td>[{'type': 'replied_to', 'id': '163774835712786...</td>\n",
       "      <td>1637733079002537986</td>\n",
       "      <td>2989553946</td>\n",
       "    </tr>\n",
       "    <tr>\n",
       "      <th>15</th>\n",
       "      <td>1507631574451322880</td>\n",
       "      <td>1638003069635153921</td>\n",
       "      <td>@1shankarsharma @Pavanasoonu First of all, bel...</td>\n",
       "      <td>[{'type': 'replied_to', 'id': '163774835712786...</td>\n",
       "      <td>1637733079002537986</td>\n",
       "      <td>2989553946</td>\n",
       "    </tr>\n",
       "    <tr>\n",
       "      <th>16</th>\n",
       "      <td>1179628511809507329</td>\n",
       "      <td>1640039436976287744</td>\n",
       "      <td>@1shankarsharma Just because you don't underst...</td>\n",
       "      <td>[{'type': 'replied_to', 'id': '163772309569481...</td>\n",
       "      <td>1637723095694815235</td>\n",
       "      <td>2989553946</td>\n",
       "    </tr>\n",
       "    <tr>\n",
       "      <th>17</th>\n",
       "      <td>359122765</td>\n",
       "      <td>1639832760180428800</td>\n",
       "      <td>@Venkat0095 @1shankarsharma https://t.co/HmTJ2...</td>\n",
       "      <td>[{'type': 'quoted', 'id': '1611261465121652737...</td>\n",
       "      <td>1637723095694815235</td>\n",
       "      <td>922414677748879360</td>\n",
       "    </tr>\n",
       "    <tr>\n",
       "      <th>18</th>\n",
       "      <td>495632009</td>\n",
       "      <td>1639420281147080708</td>\n",
       "      <td>@1shankarsharma Every individual is unique &amp;am...</td>\n",
       "      <td>[{'type': 'replied_to', 'id': '163941870418513...</td>\n",
       "      <td>1637723095694815235</td>\n",
       "      <td>495632009</td>\n",
       "    </tr>\n",
       "    <tr>\n",
       "      <th>19</th>\n",
       "      <td>495632009</td>\n",
       "      <td>1639418704185139202</td>\n",
       "      <td>@1shankarsharma Soon, I will write a blog that...</td>\n",
       "      <td>[{'type': 'replied_to', 'id': '163772309569481...</td>\n",
       "      <td>1637723095694815235</td>\n",
       "      <td>2989553946</td>\n",
       "    </tr>\n",
       "  </tbody>\n",
       "</table>\n",
       "</div>"
      ],
      "text/plain": [
       "                user_id             tweet_id  \\\n",
       "0   1013303513449836547  1638630321473335297   \n",
       "1             960759818  1638112643293511681   \n",
       "2    721002729578094592  1638034126531104768   \n",
       "3    751663829264666624  1638031325126074369   \n",
       "4   1051074201082388480  1638027677776113670   \n",
       "5   1420750442577891335  1638023870933344256   \n",
       "6   1399940033784684544  1638018184262606849   \n",
       "7   1507631574451322880  1638003069635153921   \n",
       "8   1013303513449836547  1638630321473335297   \n",
       "9             960759818  1638112643293511681   \n",
       "10   721002729578094592  1638034126531104768   \n",
       "11   751663829264666624  1638031325126074369   \n",
       "12  1051074201082388480  1638027677776113670   \n",
       "13  1420750442577891335  1638023870933344256   \n",
       "14  1399940033784684544  1638018184262606849   \n",
       "15  1507631574451322880  1638003069635153921   \n",
       "16  1179628511809507329  1640039436976287744   \n",
       "17            359122765  1639832760180428800   \n",
       "18            495632009  1639420281147080708   \n",
       "19            495632009  1639418704185139202   \n",
       "\n",
       "                                           tweet_text  \\\n",
       "0   @1shankarsharma @Pavanasoonu Think.... astrolo...   \n",
       "1   @Pavanasoonu @1shankarsharma sir, dont bother ...   \n",
       "2   @Pavanasoonu Pranaam Sir🙏\\nWhat is your take o...   \n",
       "3   @1shankarsharma @Pavanasoonu If someone asks w...   \n",
       "4   @Gajendr70729189 @amitsharma2704 @1shankarshar...   \n",
       "5   @Pavanasoonu @amitsharma2704 @1shankarsharma N...   \n",
       "6   @1shankarsharma @Pavanasoonu Also, the person ...   \n",
       "7   @1shankarsharma @Pavanasoonu First of all, bel...   \n",
       "8   @1shankarsharma @Pavanasoonu Think.... astrolo...   \n",
       "9   @Pavanasoonu @1shankarsharma sir, dont bother ...   \n",
       "10  @Pavanasoonu Pranaam Sir🙏\\nWhat is your take o...   \n",
       "11  @1shankarsharma @Pavanasoonu If someone asks w...   \n",
       "12  @Gajendr70729189 @amitsharma2704 @1shankarshar...   \n",
       "13  @Pavanasoonu @amitsharma2704 @1shankarsharma N...   \n",
       "14  @1shankarsharma @Pavanasoonu Also, the person ...   \n",
       "15  @1shankarsharma @Pavanasoonu First of all, bel...   \n",
       "16  @1shankarsharma Just because you don't underst...   \n",
       "17  @Venkat0095 @1shankarsharma https://t.co/HmTJ2...   \n",
       "18  @1shankarsharma Every individual is unique &am...   \n",
       "19  @1shankarsharma Soon, I will write a blog that...   \n",
       "\n",
       "                                    referenced_tweets             convo_id  \\\n",
       "0   [{'type': 'replied_to', 'id': '163774835712786...  1637733079002537986   \n",
       "1   [{'type': 'replied_to', 'id': '163774965390627...  1637733079002537986   \n",
       "2   [{'type': 'replied_to', 'id': '163773307900253...  1637733079002537986   \n",
       "3   [{'type': 'replied_to', 'id': '163774835712786...  1637733079002537986   \n",
       "4   [{'type': 'replied_to', 'id': '163802387093334...  1637733079002537986   \n",
       "5   [{'type': 'replied_to', 'id': '163785066821496...  1637733079002537986   \n",
       "6   [{'type': 'replied_to', 'id': '163774835712786...  1637733079002537986   \n",
       "7   [{'type': 'replied_to', 'id': '163774835712786...  1637733079002537986   \n",
       "8   [{'type': 'replied_to', 'id': '163774835712786...  1637733079002537986   \n",
       "9   [{'type': 'replied_to', 'id': '163774965390627...  1637733079002537986   \n",
       "10  [{'type': 'replied_to', 'id': '163773307900253...  1637733079002537986   \n",
       "11  [{'type': 'replied_to', 'id': '163774835712786...  1637733079002537986   \n",
       "12  [{'type': 'replied_to', 'id': '163802387093334...  1637733079002537986   \n",
       "13  [{'type': 'replied_to', 'id': '163785066821496...  1637733079002537986   \n",
       "14  [{'type': 'replied_to', 'id': '163774835712786...  1637733079002537986   \n",
       "15  [{'type': 'replied_to', 'id': '163774835712786...  1637733079002537986   \n",
       "16  [{'type': 'replied_to', 'id': '163772309569481...  1637723095694815235   \n",
       "17  [{'type': 'quoted', 'id': '1611261465121652737...  1637723095694815235   \n",
       "18  [{'type': 'replied_to', 'id': '163941870418513...  1637723095694815235   \n",
       "19  [{'type': 'replied_to', 'id': '163772309569481...  1637723095694815235   \n",
       "\n",
       "       reply_to_user_id  \n",
       "0            2989553946  \n",
       "1   1051074201082388480  \n",
       "2   1051074201082388480  \n",
       "3            2989553946  \n",
       "4   1420750442577891335  \n",
       "5   1051074201082388480  \n",
       "6            2989553946  \n",
       "7            2989553946  \n",
       "8            2989553946  \n",
       "9   1051074201082388480  \n",
       "10  1051074201082388480  \n",
       "11           2989553946  \n",
       "12  1420750442577891335  \n",
       "13  1051074201082388480  \n",
       "14           2989553946  \n",
       "15           2989553946  \n",
       "16           2989553946  \n",
       "17   922414677748879360  \n",
       "18            495632009  \n",
       "19           2989553946  "
      ]
     },
     "execution_count": 3,
     "metadata": {},
     "output_type": "execute_result"
    }
   ],
   "source": [
    "pd.DataFrame(convos).head(20)"
   ]
  },
  {
   "cell_type": "markdown",
   "metadata": {},
   "source": [
    "## Combining Data\n",
    "\n",
    "The `GetPlaces.py`, `GetTweets.py`, and `SampleUser.py` files have generated the following output files:\n",
    "* users.json : contains all the user specific data from the 51,000 sampled users\n",
    "* places.pkl : metadata related to all twitter places in the user sample\n",
    "* tweets.pkl : retrieved 100 tweets from each user"
   ]
  },
  {
   "cell_type": "code",
   "execution_count": 4,
   "metadata": {},
   "outputs": [],
   "source": [
    "URL_regex = 'https?:\\/\\/(www\\.)?[-a-zA-Z0-9@:%._\\+~#=]{1,256}\\.[a-zA-Z0-9()]{1,6}\\b([-a-zA-Z0-9()@:%_\\+.~#?&\\/\\/=]*)'\n",
    "twitter_username_re = '(?<=^|(?<=[^a-zA-Z0-9-_\\.]))@([A-Za-z]+[A-Za-z0-9-_]+)'\n",
    "twitter_username_re = r\"((^|[^@\\w])@(\\w{1,15})\\b)*\""
   ]
  },
  {
   "cell_type": "code",
   "execution_count": 6,
   "metadata": {},
   "outputs": [],
   "source": [
    "with open(\"places.pkl\", \"rb\") as file: # Unique Places\n",
    "    places = pkl.load(file)\n",
    "\n",
    "with open('tweets.pkl', 'rb') as file: # Rename to Tweets, user_id, place_id\n",
    "    data = pkl.load(file)\n",
    "\n",
    "with open('users.json', 'r') as file: # Actual data for user accounts\n",
    "    user_json = file.read()\n",
    "\n",
    "test = '{\"total\": [' + user_json.replace(\"}{\", \"},{\") + \"]}\"\n",
    "user_data = json.loads(test)\n",
    "users = [u['data'] for u in user_data[\"total\"]]\n",
    "flat_list = [user_id for user in users for user_id in user]\n",
    "\n",
    "users_df = pd.DataFrame(flat_list).rename(columns = {'name' : 'user_name_field'})"
   ]
  },
  {
   "cell_type": "code",
   "execution_count": null,
   "metadata": {},
   "outputs": [],
   "source": []
  },
  {
   "cell_type": "code",
   "execution_count": 7,
   "metadata": {},
   "outputs": [],
   "source": [
    "places_unpacked = [item  for item in places.values()]\n",
    "def unpack_place(place):\n",
    "    return (place.id, place.name, place.full_name, place.country, place.country_code, place.place_type, place.centroid[0], place.centroid[1])\n",
    "\n",
    "unpacked_places = [unpack_place(place) for place in places_unpacked]\n",
    "place_df = pd.DataFrame(unpacked_places, columns = (\"id\", \"name\", \"full_name\", \"country\", \"country_code\", \"type\", \"lat\", \"lon\"))"
   ]
  },
  {
   "cell_type": "code",
   "execution_count": null,
   "metadata": {},
   "outputs": [
    {
     "data": {
      "text/html": [
       "<div>\n",
       "<style scoped>\n",
       "    .dataframe tbody tr th:only-of-type {\n",
       "        vertical-align: middle;\n",
       "    }\n",
       "\n",
       "    .dataframe tbody tr th {\n",
       "        vertical-align: top;\n",
       "    }\n",
       "\n",
       "    .dataframe thead th {\n",
       "        text-align: right;\n",
       "    }\n",
       "</style>\n",
       "<table border=\"1\" class=\"dataframe\">\n",
       "  <thead>\n",
       "    <tr style=\"text-align: right;\">\n",
       "      <th></th>\n",
       "      <th>id</th>\n",
       "      <th>name</th>\n",
       "      <th>full_name</th>\n",
       "      <th>country</th>\n",
       "      <th>country_code</th>\n",
       "      <th>type</th>\n",
       "      <th>lat</th>\n",
       "      <th>lon</th>\n",
       "    </tr>\n",
       "  </thead>\n",
       "  <tbody>\n",
       "    <tr>\n",
       "      <th>0</th>\n",
       "      <td>67b98f17fdcf20be</td>\n",
       "      <td>Boston</td>\n",
       "      <td>Boston, MA</td>\n",
       "      <td>United States</td>\n",
       "      <td>US</td>\n",
       "      <td>city</td>\n",
       "      <td>-71.088478</td>\n",
       "      <td>42.311398</td>\n",
       "    </tr>\n",
       "    <tr>\n",
       "      <th>1</th>\n",
       "      <td>5c62ffb0f0f3479d</td>\n",
       "      <td>Phoenix</td>\n",
       "      <td>Phoenix, AZ</td>\n",
       "      <td>United States</td>\n",
       "      <td>US</td>\n",
       "      <td>city</td>\n",
       "      <td>-112.073523</td>\n",
       "      <td>33.552088</td>\n",
       "    </tr>\n",
       "    <tr>\n",
       "      <th>2</th>\n",
       "      <td>8a927a7056322151</td>\n",
       "      <td>Botswana</td>\n",
       "      <td>Botswana</td>\n",
       "      <td>Botswana</td>\n",
       "      <td>BW</td>\n",
       "      <td>country</td>\n",
       "      <td>24.481179</td>\n",
       "      <td>-22.342707</td>\n",
       "    </tr>\n",
       "    <tr>\n",
       "      <th>3</th>\n",
       "      <td>06168d1feda43857</td>\n",
       "      <td>South East</td>\n",
       "      <td>South East, England</td>\n",
       "      <td>United Kingdom</td>\n",
       "      <td>GB</td>\n",
       "      <td>admin</td>\n",
       "      <td>-0.993491</td>\n",
       "      <td>51.450970</td>\n",
       "    </tr>\n",
       "    <tr>\n",
       "      <th>4</th>\n",
       "      <td>94d47cc557aa35f4</td>\n",
       "      <td>Nicholasville</td>\n",
       "      <td>Nicholasville, KY</td>\n",
       "      <td>United States</td>\n",
       "      <td>US</td>\n",
       "      <td>city</td>\n",
       "      <td>-84.579594</td>\n",
       "      <td>37.872506</td>\n",
       "    </tr>\n",
       "    <tr>\n",
       "      <th>...</th>\n",
       "      <td>...</td>\n",
       "      <td>...</td>\n",
       "      <td>...</td>\n",
       "      <td>...</td>\n",
       "      <td>...</td>\n",
       "      <td>...</td>\n",
       "      <td>...</td>\n",
       "      <td>...</td>\n",
       "    </tr>\n",
       "    <tr>\n",
       "      <th>7364</th>\n",
       "      <td>486bc865d347cd73</td>\n",
       "      <td>Florin</td>\n",
       "      <td>Florin, CA</td>\n",
       "      <td>United States</td>\n",
       "      <td>US</td>\n",
       "      <td>city</td>\n",
       "      <td>-121.405325</td>\n",
       "      <td>38.489315</td>\n",
       "    </tr>\n",
       "    <tr>\n",
       "      <th>7365</th>\n",
       "      <td>35f73f0698fa5f98</td>\n",
       "      <td>Athens</td>\n",
       "      <td>Athens, TN</td>\n",
       "      <td>United States</td>\n",
       "      <td>US</td>\n",
       "      <td>city</td>\n",
       "      <td>-84.603682</td>\n",
       "      <td>35.445604</td>\n",
       "    </tr>\n",
       "    <tr>\n",
       "      <th>7366</th>\n",
       "      <td>00ace66c41e736ad</td>\n",
       "      <td>Mubi</td>\n",
       "      <td>Mubi, Nigeria</td>\n",
       "      <td>Nigeria</td>\n",
       "      <td>NG</td>\n",
       "      <td>city</td>\n",
       "      <td>13.269995</td>\n",
       "      <td>10.268770</td>\n",
       "    </tr>\n",
       "    <tr>\n",
       "      <th>7367</th>\n",
       "      <td>fb4d9b85c6daedc1</td>\n",
       "      <td>Nigel</td>\n",
       "      <td>Nigel, South Africa</td>\n",
       "      <td>South Africa</td>\n",
       "      <td>ZA</td>\n",
       "      <td>city</td>\n",
       "      <td>28.464121</td>\n",
       "      <td>-26.390979</td>\n",
       "    </tr>\n",
       "    <tr>\n",
       "      <th>7368</th>\n",
       "      <td>5351d399e13f979c</td>\n",
       "      <td>Palwal</td>\n",
       "      <td>Palwal, India</td>\n",
       "      <td>India</td>\n",
       "      <td>IN</td>\n",
       "      <td>city</td>\n",
       "      <td>77.392754</td>\n",
       "      <td>28.061317</td>\n",
       "    </tr>\n",
       "  </tbody>\n",
       "</table>\n",
       "<p>7369 rows × 8 columns</p>\n",
       "</div>"
      ],
      "text/plain": [
       "                    id           name            full_name         country  \\\n",
       "0     67b98f17fdcf20be         Boston           Boston, MA   United States   \n",
       "1     5c62ffb0f0f3479d        Phoenix          Phoenix, AZ   United States   \n",
       "2     8a927a7056322151       Botswana             Botswana        Botswana   \n",
       "3     06168d1feda43857     South East  South East, England  United Kingdom   \n",
       "4     94d47cc557aa35f4  Nicholasville    Nicholasville, KY   United States   \n",
       "...                ...            ...                  ...             ...   \n",
       "7364  486bc865d347cd73         Florin           Florin, CA   United States   \n",
       "7365  35f73f0698fa5f98         Athens           Athens, TN   United States   \n",
       "7366  00ace66c41e736ad           Mubi        Mubi, Nigeria         Nigeria   \n",
       "7367  fb4d9b85c6daedc1          Nigel  Nigel, South Africa    South Africa   \n",
       "7368  5351d399e13f979c         Palwal        Palwal, India           India   \n",
       "\n",
       "     country_code     type         lat        lon  \n",
       "0              US     city  -71.088478  42.311398  \n",
       "1              US     city -112.073523  33.552088  \n",
       "2              BW  country   24.481179 -22.342707  \n",
       "3              GB    admin   -0.993491  51.450970  \n",
       "4              US     city  -84.579594  37.872506  \n",
       "...           ...      ...         ...        ...  \n",
       "7364           US     city -121.405325  38.489315  \n",
       "7365           US     city  -84.603682  35.445604  \n",
       "7366           NG     city   13.269995  10.268770  \n",
       "7367           ZA     city   28.464121 -26.390979  \n",
       "7368           IN     city   77.392754  28.061317  \n",
       "\n",
       "[7369 rows x 8 columns]"
      ]
     },
     "execution_count": 64,
     "metadata": {},
     "output_type": "execute_result"
    }
   ],
   "source": [
    "place_df"
   ]
  },
  {
   "attachments": {},
   "cell_type": "markdown",
   "metadata": {},
   "source": [
    "URL_regex = 'https?:\\/\\/(www\\.)?[-a-zA-Z0-9@:%._\\+~#=]{1,256}\\.[a-zA-Z0-9()]{1,6}\\b([-a-zA-Z0-9()@:%_\\+.~#?&//=]*)'"
   ]
  },
  {
   "cell_type": "code",
   "execution_count": null,
   "metadata": {},
   "outputs": [],
   "source": [
    "URL_regex = r'https?:\\/\\/(www\\.)?[-a-zA-Z0-9@:%._\\+~#=]{1,256}\\.[a-zA-Z0-9()]{1,6}\\b([-a-zA-Z0-9()@:%_\\+.~#?&\\/\\/=]*)'"
   ]
  },
  {
   "cell_type": "code",
   "execution_count": null,
   "metadata": {},
   "outputs": [],
   "source": [
    "df = pd.DataFrame(data)\n",
    "merged = pd.merge(df, place_df, how = 'left', left_on = 'place_id', right_on='id')\n",
    "full_data = pd.merge(merged, users_df, how='left', left_on ='user_id', right_on = 'id')\n",
    "# full_data.to_csv('fulldata.csv', index = False) # 3 Gigs of data, not great...\n",
    "# full_data.description.iloc[0,]\n",
    "# places_unpacked # Cool opportunity for geographic visualization"
   ]
  },
  {
   "cell_type": "code",
   "execution_count": null,
   "metadata": {},
   "outputs": [
    {
     "data": {
      "text/plain": [
       "30470"
      ]
     },
     "execution_count": 67,
     "metadata": {},
     "output_type": "execute_result"
    }
   ],
   "source": [
    "len(full_data['user_id'].unique())"
   ]
  },
  {
   "cell_type": "code",
   "execution_count": null,
   "metadata": {},
   "outputs": [
    {
     "data": {
      "text/plain": [
       "0.9066735266648764"
      ]
     },
     "execution_count": 68,
     "metadata": {},
     "output_type": "execute_result"
    }
   ],
   "source": [
    "# Limit to top 6 countries\n",
    "by_country = merged.groupby('country').count()\n",
    "top6 = by_country.sort_values(by = 'user_id', ascending=False).head(6)\n",
    "total = by_country.user_id.sum()\n",
    "top6.user_id.divide(total).sum()"
   ]
  },
  {
   "cell_type": "code",
   "execution_count": null,
   "metadata": {},
   "outputs": [
    {
     "data": {
      "text/plain": [
       "Index(['user_id', 'tweet_id', 'tweet_text', 'place_id', 'id_x', 'name',\n",
       "       'full_name', 'country', 'country_code', 'type', 'lat', 'lon',\n",
       "       'username', 'description', 'id_y', 'user_name_field', 'location',\n",
       "       'withheld'],\n",
       "      dtype='object')"
      ]
     },
     "execution_count": 69,
     "metadata": {},
     "output_type": "execute_result"
    }
   ],
   "source": [
    "full_data.columns"
   ]
  },
  {
   "attachments": {},
   "cell_type": "markdown",
   "metadata": {},
   "source": [
    "The top 6 countries account for 91% of the total users collected, which suggests pretty good coverage. Dropping unnecessary columns"
   ]
  },
  {
   "attachments": {},
   "cell_type": "markdown",
   "metadata": {},
   "source": [
    "Rename Columns"
   ]
  },
  {
   "cell_type": "code",
   "execution_count": null,
   "metadata": {},
   "outputs": [],
   "source": [
    "target_fields = ['user_id', 'tweet_id', 'tweet_text', 'place_id', 'name',\n",
    "       'full_name', 'country', 'country_code', 'type', 'username',\n",
    "       'description', 'user_name_field', 'location', 'lat', 'lon']\n",
    "reduced_df = full_data[target_fields]\n",
    "reduced_df = reduced_df.rename(columns={'name':'place_name', \n",
    "                                        'full_name':'full_place_name',\n",
    "                                        'type': 'place_type', \n",
    "                                        'description':'profile_description',\n",
    "                                        'user_name_field':'profile_name',\n",
    "                                        'location':'profile_location',\n",
    "                                        'lat': 'lat',\n",
    "                                        'lon':'lon'\n",
    "                                        })"
   ]
  },
  {
   "attachments": {},
   "cell_type": "markdown",
   "metadata": {},
   "source": [
    "Drop Duplicates"
   ]
  },
  {
   "cell_type": "code",
   "execution_count": null,
   "metadata": {},
   "outputs": [],
   "source": [
    "top6_countries = top6.index\n",
    "top6 = reduced_df[reduced_df['country'].isin(top6_countries)]\n",
    "unique_tweets = top6['tweet_id'].unique()\n",
    "top6 = top6.drop_duplicates('tweet_id')"
   ]
  },
  {
   "attachments": {},
   "cell_type": "markdown",
   "metadata": {},
   "source": [
    "Detect languages"
   ]
  },
  {
   "cell_type": "code",
   "execution_count": null,
   "metadata": {},
   "outputs": [],
   "source": [
    "def get_lang_detector(nlp, name):\n",
    "    return sld.LanguageDetector()\n",
    "\n",
    "# Uncomment when running for first time\n",
    "nlp = spacy.load(\"en_core_web_sm\")\n",
    "spacy.Language.factory('language_detector', func = get_lang_detector)\n",
    "nlp.add_pipe('language_detector', last =True)\n",
    "\n",
    "def get_language(text):\n",
    "    return nlp(text)._.language['score']"
   ]
  },
  {
   "cell_type": "code",
   "execution_count": null,
   "metadata": {},
   "outputs": [
    {
     "data": {
      "text/plain": [
       "0.999998530043281"
      ]
     },
     "execution_count": 73,
     "metadata": {},
     "output_type": "execute_result"
    }
   ],
   "source": [
    "get_language(top6.tweet_text.iloc[0])"
   ]
  },
  {
   "cell_type": "code",
   "execution_count": null,
   "metadata": {},
   "outputs": [],
   "source": [
    "# data_dict = top6.to_dict(orient='records')\n",
    "# langs = [get_language(d['tweet_text']) for d in data_dict]"
   ]
  },
  {
   "attachments": {},
   "cell_type": "markdown",
   "metadata": {},
   "source": [
    "## Clean Tweet Texts"
   ]
  },
  {
   "cell_type": "code",
   "execution_count": null,
   "metadata": {},
   "outputs": [
    {
     "data": {
      "text/plain": [
       "'@JatinPandyaVBNJ @1shankarsharma Indeed.  Nadi Jyotish has excellent rules.  Namaste.'"
      ]
     },
     "execution_count": 75,
     "metadata": {},
     "output_type": "execute_result"
    }
   ],
   "source": [
    "text_test = top6.tweet_text.iloc[1]\n",
    "text_test"
   ]
  },
  {
   "cell_type": "code",
   "execution_count": null,
   "metadata": {},
   "outputs": [
    {
     "data": {
      "text/plain": [
       "' Indeed.  Nadi Jyotish has excellent rules.  Namaste.'"
      ]
     },
     "execution_count": 76,
     "metadata": {},
     "output_type": "execute_result"
    }
   ],
   "source": [
    "re.sub(URL_regex, \"\", text_test)\n",
    "re.sub(twitter_username_re, \"\", text_test)"
   ]
  },
  {
   "cell_type": "code",
   "execution_count": null,
   "metadata": {},
   "outputs": [],
   "source": [
    "def clean_text(text):\n",
    "    temp = re.sub(URL_regex, \"\", text)\n",
    "\n",
    "    return re.sub(twitter_username_re, \"\", text)\n",
    "\n",
    "top6['clean_text'] = top6.tweet_text.apply(clean_text)"
   ]
  },
  {
   "cell_type": "code",
   "execution_count": null,
   "metadata": {},
   "outputs": [],
   "source": [
    "top6 = top6.drop_duplicates('tweet_id')\n",
    "top6.shape"
   ]
  },
  {
   "cell_type": "code",
   "execution_count": null,
   "metadata": {},
   "outputs": [],
   "source": [
    "top6.to_csv('filtered_data.csv', index=False)"
   ]
  }
 ],
 "metadata": {
  "kernelspec": {
   "display_name": "Python 3.8.8 ('base')",
   "language": "python",
   "name": "python3"
  },
  "language_info": {
   "codemirror_mode": {
    "name": "ipython",
    "version": 3
   },
   "file_extension": ".py",
   "mimetype": "text/x-python",
   "name": "python",
   "nbconvert_exporter": "python",
   "pygments_lexer": "ipython3",
   "version": "3.8.8"
  },
  "orig_nbformat": 4,
  "vscode": {
   "interpreter": {
    "hash": "ad2bdc8ecc057115af97d19610ffacc2b4e99fae6737bb82f5d7fb13d2f2c186"
   }
  }
 },
 "nbformat": 4,
 "nbformat_minor": 2
}
